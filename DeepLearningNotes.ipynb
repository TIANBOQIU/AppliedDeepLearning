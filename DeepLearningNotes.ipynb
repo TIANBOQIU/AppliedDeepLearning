{
  "nbformat": 4,
  "nbformat_minor": 0,
  "metadata": {
    "colab": {
      "name": "DeepLearningNotes.ipynb",
      "version": "0.3.2",
      "provenance": [],
      "collapsed_sections": [],
      "include_colab_link": true
    },
    "kernelspec": {
      "name": "python3",
      "display_name": "Python 3"
    },
    "accelerator": "GPU"
  },
  "cells": [
    {
      "cell_type": "markdown",
      "metadata": {
        "id": "view-in-github",
        "colab_type": "text"
      },
      "source": [
        "<a href=\"https://colab.research.google.com/github/TIANBOQIU/AppliedDeepLearning/blob/master/DeepLearningNotes.ipynb\" target=\"_parent\"><img src=\"https://colab.research.google.com/assets/colab-badge.svg\" alt=\"Open In Colab\"/></a>"
      ]
    },
    {
      "metadata": {
        "id": "e657rMXIGv3p",
        "colab_type": "code",
        "outputId": "90e19f72-2b66-4b04-dce6-c504222532a3",
        "colab": {
          "base_uri": "https://localhost:8080/",
          "height": 34
        }
      },
      "cell_type": "code",
      "source": [
        "import keras"
      ],
      "execution_count": 1,
      "outputs": [
        {
          "output_type": "stream",
          "text": [
            "Using TensorFlow backend.\n"
          ],
          "name": "stderr"
        }
      ]
    },
    {
      "metadata": {
        "id": "wP3KePuBT-1p",
        "colab_type": "text"
      },
      "cell_type": "markdown",
      "source": [
        "# Binary Classification"
      ]
    },
    {
      "metadata": {
        "id": "mKXrggSVT9qO",
        "colab_type": "code",
        "colab": {}
      },
      "cell_type": "code",
      "source": [
        "# The IMDB dataset\n",
        "# size: 50000      train : 25000     tets : 25000"
      ],
      "execution_count": 0,
      "outputs": []
    },
    {
      "metadata": {
        "id": "G3A3-srmT7TY",
        "colab_type": "code",
        "outputId": "47850004-9b78-4b18-a39d-f937baa8b607",
        "colab": {
          "base_uri": "https://localhost:8080/",
          "height": 51
        }
      },
      "cell_type": "code",
      "source": [
        "from keras.datasets import imdb\n",
        "\n",
        "(train_data, train_labels), (test_data, test_labels) = imdb.load_data(num_words=10000 )"
      ],
      "execution_count": 0,
      "outputs": [
        {
          "output_type": "stream",
          "text": [
            "Downloading data from https://s3.amazonaws.com/text-datasets/imdb.npz\n",
            "17465344/17464789 [==============================] - 1s 0us/step\n"
          ],
          "name": "stdout"
        }
      ]
    },
    {
      "metadata": {
        "id": "BpVclWJJU95k",
        "colab_type": "code",
        "outputId": "29f353b1-7bdf-42fb-a829-cc4cbe759056",
        "colab": {
          "base_uri": "https://localhost:8080/",
          "height": 141
        }
      },
      "cell_type": "code",
      "source": [
        "# the reviews -> vector of intergers (just simple mapping)\n",
        "# the most 10000 frequent words are mapped into integers\n",
        "print(train_data.shape) \n",
        "print(train_data[0])\n",
        "print(len(train_data[4]))\n",
        "print(len(train_data[2]))\n",
        "print(train_labels.shape)\n",
        "print(train_labels[0])"
      ],
      "execution_count": 0,
      "outputs": [
        {
          "output_type": "stream",
          "text": [
            "(25000,)\n",
            "[1, 14, 22, 16, 43, 530, 973, 1622, 1385, 65, 458, 4468, 66, 3941, 4, 173, 36, 256, 5, 25, 100, 43, 838, 112, 50, 670, 2, 9, 35, 480, 284, 5, 150, 4, 172, 112, 167, 2, 336, 385, 39, 4, 172, 4536, 1111, 17, 546, 38, 13, 447, 4, 192, 50, 16, 6, 147, 2025, 19, 14, 22, 4, 1920, 4613, 469, 4, 22, 71, 87, 12, 16, 43, 530, 38, 76, 15, 13, 1247, 4, 22, 17, 515, 17, 12, 16, 626, 18, 2, 5, 62, 386, 12, 8, 316, 8, 106, 5, 4, 2223, 5244, 16, 480, 66, 3785, 33, 4, 130, 12, 16, 38, 619, 5, 25, 124, 51, 36, 135, 48, 25, 1415, 33, 6, 22, 12, 215, 28, 77, 52, 5, 14, 407, 16, 82, 2, 8, 4, 107, 117, 5952, 15, 256, 4, 2, 7, 3766, 5, 723, 36, 71, 43, 530, 476, 26, 400, 317, 46, 7, 4, 2, 1029, 13, 104, 88, 4, 381, 15, 297, 98, 32, 2071, 56, 26, 141, 6, 194, 7486, 18, 4, 226, 22, 21, 134, 476, 26, 480, 5, 144, 30, 5535, 18, 51, 36, 28, 224, 92, 25, 104, 4, 226, 65, 16, 38, 1334, 88, 12, 16, 283, 5, 16, 4472, 113, 103, 32, 15, 16, 5345, 19, 178, 32]\n",
            "147\n",
            "141\n",
            "(25000,)\n",
            "1\n"
          ],
          "name": "stdout"
        }
      ]
    },
    {
      "metadata": {
        "id": "OmFHghJeWGpm",
        "colab_type": "code",
        "outputId": "c9ac7af6-4753-4bac-d842-000cf5964c74",
        "colab": {
          "base_uri": "https://localhost:8080/",
          "height": 89
        }
      },
      "cell_type": "code",
      "source": [
        "word_index = imdb.get_word_index()\n",
        "reverse_word_index = dict(\n",
        "  [(value, key) for (key, value) in word_index.items()])\n",
        "\n",
        "def review_decoder(words):\n",
        "  review = ' '.join([reverse_word_index.get(i - 3, '?') for i in words])\n",
        "  # offset by 3, since 0, 1, 2 are reserved\n",
        "  return review\n",
        "\n",
        "review_decoder(train_data[0])"
      ],
      "execution_count": 0,
      "outputs": [
        {
          "output_type": "stream",
          "text": [
            "Downloading data from https://s3.amazonaws.com/text-datasets/imdb_word_index.json\n",
            "1646592/1641221 [==============================] - 0s 0us/step\n"
          ],
          "name": "stdout"
        },
        {
          "output_type": "execute_result",
          "data": {
            "text/plain": [
              "\"? this film was just brilliant casting location scenery story direction everyone's really suited the part they played and you could just imagine being there robert ? is an amazing actor and now the same being director ? father came from the same scottish island as myself so i loved the fact there was a real connection with this film the witty remarks throughout the film were great it was just brilliant so much that i bought the film as soon as it was released for ? and would recommend it to everyone to watch and the fly fishing was amazing really cried at the end it was so sad and you know what they say if you cry at a film it must have been good and this definitely was also ? to the two little boy's that played the ? of norman and paul they were just brilliant children are often left out of the ? list i think because the stars that play them all grown up are such a big profile for the whole film but these children are amazing and should be praised for what they have done don't you think the whole story was so lovely because it was true and was someone's life after all that was shared with us all\""
            ]
          },
          "metadata": {
            "tags": []
          },
          "execution_count": 13
        }
      ]
    },
    {
      "metadata": {
        "id": "yVuLosT-XOTB",
        "colab_type": "code",
        "colab": {}
      },
      "cell_type": "code",
      "source": [
        "# preparing the data\n",
        "# lists -> tensors\n",
        "# two ways: 1. pad the lists for the same length\n",
        "#           2. one-hot encode lists into 1s and 0s e.g. 10000-dimensional\n",
        "# use one-hot encoding\n",
        "import numpy as np\n",
        "\n",
        "def vectorize_sequences(sequences, dimension=10000):\n",
        "  results = np.zeros((len(sequences), dimension))\n",
        "  for i, sequence in enumerate(sequences):\n",
        "    # sets specific indices of results[i] to 1s\n",
        "    results[i, sequence] = 1\n",
        "  return results\n",
        "X_train = vectorize_sequences(train_data)\n",
        "X_test = vectorize_sequences(test_data)"
      ],
      "execution_count": 0,
      "outputs": []
    },
    {
      "metadata": {
        "id": "RgG6rgZKZtTg",
        "colab_type": "code",
        "outputId": "62c567db-f01e-4c22-d780-7957f8bc72c3",
        "colab": {
          "base_uri": "https://localhost:8080/",
          "height": 34
        }
      },
      "cell_type": "code",
      "source": [
        "X_train.shape"
      ],
      "execution_count": 0,
      "outputs": [
        {
          "output_type": "execute_result",
          "data": {
            "text/plain": [
              "(25000, 10000)"
            ]
          },
          "metadata": {
            "tags": []
          },
          "execution_count": 17
        }
      ]
    },
    {
      "metadata": {
        "id": "ManeEx56ZwHy",
        "colab_type": "code",
        "colab": {}
      },
      "cell_type": "code",
      "source": [
        "# vectorize the labels\n",
        "y_train = np.array(train_labels).astype('float32')\n",
        "y_test = np.array(test_labels).astype('float32')"
      ],
      "execution_count": 0,
      "outputs": []
    },
    {
      "metadata": {
        "id": "2Yq--n6BaVzM",
        "colab_type": "code",
        "outputId": "0fc0674a-4f57-4a21-dbff-1ecf98a3f498",
        "colab": {
          "base_uri": "https://localhost:8080/",
          "height": 69
        }
      },
      "cell_type": "code",
      "source": [
        "print(y_train.shape)\n",
        "y_train[0]\n",
        "print(np.amax(y_train))\n",
        "print(np.amin(y_train))"
      ],
      "execution_count": 0,
      "outputs": [
        {
          "output_type": "stream",
          "text": [
            "(25000,)\n",
            "1.0\n",
            "0.0\n"
          ],
          "name": "stdout"
        }
      ]
    },
    {
      "metadata": {
        "id": "LkuKyRXcadvb",
        "colab_type": "code",
        "colab": {}
      },
      "cell_type": "code",
      "source": [
        "# Model\n",
        "# a hidden unit is a dimension in the representaion in the representation space\n",
        "# output = relu(dot(W, input)+b)   (input_dim, ) -> d (by dot product with W)\n",
        "# d increases -> more computaionally intensive & may lead to learn unwanted patterns & more complex representaion\n",
        "# how many layers, how many hidden units to choose for each layer (architecture)\n",
        "\n",
        "# 2 Dense layers with 16 hidden units, plus 1 softmax to output a probability\n",
        "# define a function to create a model could be a better practice\n",
        "from keras import models\n",
        "from keras import layers\n",
        "\n",
        "model = models.Sequential()\n",
        "model.add(layers.Dense(16, activation='relu', input_shape=(10000,)))\n",
        "model.add(layers.Dense(16, activation='relu'))\n",
        "model.add(layers.Dense(1, activation='sigmoid'))\n",
        "\n",
        "model.compile(optimizer='rmsprop', loss='binary_crossentropy', metrics=['accuracy'])\n"
      ],
      "execution_count": 0,
      "outputs": []
    },
    {
      "metadata": {
        "id": "6rS9J7h7eJtH",
        "colab_type": "text"
      },
      "cell_type": "markdown",
      "source": [
        "Conguring the optimizer, the optimizer, and the metrics\n",
        "```\n",
        "from keras import optimizer, losses, metrics\n",
        "model.compile(optimizer=optimizer.RMSprop(lr=0.001), loss = losses.binary_crossentropy, metrics=[metrics.binary_accuracy])\n",
        "\n",
        "```"
      ]
    },
    {
      "metadata": {
        "id": "tGqEjb9VfCjd",
        "colab_type": "code",
        "colab": {}
      },
      "cell_type": "code",
      "source": [
        "# create a validation set\n",
        "x_val = X_train[:10000]\n",
        "partial_x_train = X_train[10000:]\n",
        "y_val = y_train[:10000]\n",
        "partial_y_train = y_train[10000:]"
      ],
      "execution_count": 0,
      "outputs": []
    },
    {
      "metadata": {
        "id": "-8do8zZ3gW0O",
        "colab_type": "code",
        "outputId": "96ac2d82-4c51-460a-bd5f-87bdb61b9b0a",
        "colab": {
          "base_uri": "https://localhost:8080/",
          "height": 727
        }
      },
      "cell_type": "code",
      "source": [
        "history = model.fit(partial_x_train, partial_y_train, epochs=20,batch_size=512, validation_data=(x_val, y_val))"
      ],
      "execution_count": 0,
      "outputs": [
        {
          "output_type": "stream",
          "text": [
            "Train on 15000 samples, validate on 10000 samples\n",
            "Epoch 1/20\n",
            "15000/15000 [==============================] - 1s 96us/step - loss: 0.0467 - acc: 0.9899 - val_loss: 0.3958 - val_acc: 0.8792\n",
            "Epoch 2/20\n",
            "15000/15000 [==============================] - 2s 101us/step - loss: 0.0392 - acc: 0.9915 - val_loss: 0.4274 - val_acc: 0.8690\n",
            "Epoch 3/20\n",
            "15000/15000 [==============================] - 2s 104us/step - loss: 0.0304 - acc: 0.9949 - val_loss: 0.4468 - val_acc: 0.8701\n",
            "Epoch 4/20\n",
            "15000/15000 [==============================] - 2s 104us/step - loss: 0.0255 - acc: 0.9949 - val_loss: 0.4706 - val_acc: 0.8734\n",
            "Epoch 5/20\n",
            "15000/15000 [==============================] - 2s 105us/step - loss: 0.0179 - acc: 0.9975 - val_loss: 0.5099 - val_acc: 0.8665\n",
            "Epoch 6/20\n",
            "15000/15000 [==============================] - 2s 105us/step - loss: 0.0170 - acc: 0.9968 - val_loss: 0.5329 - val_acc: 0.8690\n",
            "Epoch 7/20\n",
            "15000/15000 [==============================] - 2s 105us/step - loss: 0.0111 - acc: 0.9989 - val_loss: 0.5633 - val_acc: 0.8669\n",
            "Epoch 8/20\n",
            "15000/15000 [==============================] - 2s 106us/step - loss: 0.0111 - acc: 0.9985 - val_loss: 0.5929 - val_acc: 0.8688\n",
            "Epoch 9/20\n",
            "15000/15000 [==============================] - 2s 104us/step - loss: 0.0053 - acc: 0.9999 - val_loss: 0.6308 - val_acc: 0.8614\n",
            "Epoch 10/20\n",
            "15000/15000 [==============================] - 2s 104us/step - loss: 0.0076 - acc: 0.9985 - val_loss: 0.6548 - val_acc: 0.8671\n",
            "Epoch 11/20\n",
            "15000/15000 [==============================] - 2s 105us/step - loss: 0.0030 - acc: 0.9998 - val_loss: 0.6862 - val_acc: 0.8664\n",
            "Epoch 12/20\n",
            "15000/15000 [==============================] - 2s 105us/step - loss: 0.0045 - acc: 0.9991 - val_loss: 0.7141 - val_acc: 0.8660\n",
            "Epoch 13/20\n",
            "15000/15000 [==============================] - 2s 104us/step - loss: 0.0017 - acc: 0.9999 - val_loss: 0.8427 - val_acc: 0.8579\n",
            "Epoch 14/20\n",
            "15000/15000 [==============================] - 2s 105us/step - loss: 0.0017 - acc: 0.9999 - val_loss: 0.7801 - val_acc: 0.8642\n",
            "Epoch 15/20\n",
            "15000/15000 [==============================] - 2s 104us/step - loss: 0.0018 - acc: 0.9999 - val_loss: 0.8078 - val_acc: 0.8651\n",
            "Epoch 16/20\n",
            "15000/15000 [==============================] - 2s 105us/step - loss: 6.6952e-04 - acc: 1.0000 - val_loss: 0.8587 - val_acc: 0.8640\n",
            "Epoch 17/20\n",
            "15000/15000 [==============================] - 2s 105us/step - loss: 0.0025 - acc: 0.9993 - val_loss: 0.8734 - val_acc: 0.8632\n",
            "Epoch 18/20\n",
            "15000/15000 [==============================] - 2s 104us/step - loss: 3.5420e-04 - acc: 1.0000 - val_loss: 0.8920 - val_acc: 0.8644\n",
            "Epoch 19/20\n",
            "15000/15000 [==============================] - 2s 104us/step - loss: 2.8857e-04 - acc: 1.0000 - val_loss: 0.9270 - val_acc: 0.8631\n",
            "Epoch 20/20\n",
            "15000/15000 [==============================] - 2s 105us/step - loss: 0.0019 - acc: 0.9995 - val_loss: 0.9508 - val_acc: 0.8635\n"
          ],
          "name": "stdout"
        }
      ]
    },
    {
      "metadata": {
        "id": "TzXIoazNg6qG",
        "colab_type": "code",
        "outputId": "08bac740-bc06-4008-ee43-ae0ddcf2c03a",
        "colab": {
          "base_uri": "https://localhost:8080/",
          "height": 365
        }
      },
      "cell_type": "code",
      "source": [
        "# visualization\n",
        "import matplotlib.pyplot as plt\n",
        "history_dict = history.history\n",
        "loss_values = history_dict['loss']\n",
        "val_loss_values = history_dict['val_loss']\n",
        "epochs = range(1, len(loss_values) + 1)\n",
        "plt.plot(epochs, loss_values, 'bo', label='Training loss')\n",
        "plt.plot(epochs, val_loss_values, 'b', label='Val loss')\n",
        "plt.xlabel('Epoch')\n",
        "plt.ylabel('Loss')\n",
        "plt.legend()\n",
        "plt.show()"
      ],
      "execution_count": 0,
      "outputs": [
        {
          "output_type": "display_data",
          "data": {
            "image/png": "[encoded data removed]",
            "text/plain": [
              "<Figure size 576x396 with 1 Axes>"
            ]
          },
          "metadata": {
            "tags": []
          }
        }
      ]
    },
    {
      "metadata": {
        "id": "MtxXWmAAiCyS",
        "colab_type": "code",
        "outputId": "28e14fe8-9dd0-4f39-c089-a76f2dc62b7a",
        "colab": {
          "base_uri": "https://localhost:8080/",
          "height": 361
        }
      },
      "cell_type": "code",
      "source": [
        "plt.clf()\n",
        "acc_values = history_dict['acc']\n",
        "val_acc_values = history_dict['val_acc']\n",
        "plt.plot(epochs, acc_values, 'bo', label='Training loss')\n",
        "plt.plot(epochs, val_acc_values, 'b', label='Val loss')\n",
        "plt.xlabel('Epoch')\n",
        "plt.ylabel('Loss')\n",
        "plt.legend()\n",
        "plt.show()"
      ],
      "execution_count": 0,
      "outputs": [
        {
          "output_type": "display_data",
          "data": {
            "image/png": "[encoded data removed]",
            "text/plain": [
              "<Figure size 576x396 with 1 Axes>"
            ]
          },
          "metadata": {
            "tags": []
          }
        }
      ]
    },
    {
      "metadata": {
        "id": "F3zu231pife1",
        "colab_type": "code",
        "outputId": "9b860971-7772-46fd-e5da-72682ddf2473",
        "colab": {
          "base_uri": "https://localhost:8080/",
          "height": 190
        }
      },
      "cell_type": "code",
      "source": [
        "# overfitting\n",
        "model = models.Sequential()\n",
        "model.add(layers.Dense(16, activation='relu', input_shape=(10000,)))\n",
        "model.add(layers.Dense(16, activation='relu'))\n",
        "model.add(layers.Dense(1, activation='sigmoid'))\n",
        "model.compile(optimizer='rmsprop', loss='binary_crossentropy', metrics=['accuracy'])\n",
        "model.fit(partial_x_train, partial_y_train, epochs=4,batch_size=512, validation_data=(x_val, y_val))\n",
        "# evaluate on test set\n",
        "results = model.evaluate(X_test, y_test)\n"
      ],
      "execution_count": 0,
      "outputs": [
        {
          "output_type": "stream",
          "text": [
            "Train on 15000 samples, validate on 10000 samples\n",
            "Epoch 1/4\n",
            "15000/15000 [==============================] - 2s 127us/step - loss: 0.5297 - acc: 0.7917 - val_loss: 0.3981 - val_acc: 0.8664\n",
            "Epoch 2/4\n",
            "15000/15000 [==============================] - 2s 107us/step - loss: 0.3180 - acc: 0.9011 - val_loss: 0.3091 - val_acc: 0.8867\n",
            "Epoch 3/4\n",
            "15000/15000 [==============================] - 2s 108us/step - loss: 0.2319 - acc: 0.9251 - val_loss: 0.2786 - val_acc: 0.8903\n",
            "Epoch 4/4\n",
            "15000/15000 [==============================] - 2s 108us/step - loss: 0.1839 - acc: 0.9399 - val_loss: 0.2739 - val_acc: 0.8909\n",
            "25000/25000 [==============================] - 2s 95us/step\n"
          ],
          "name": "stdout"
        }
      ]
    },
    {
      "metadata": {
        "id": "-6OJdItTjP0M",
        "colab_type": "code",
        "outputId": "12559390-f887-4bd3-af49-2a890c69d516",
        "colab": {
          "base_uri": "https://localhost:8080/",
          "height": 34
        }
      },
      "cell_type": "code",
      "source": [
        "print(results)"
      ],
      "execution_count": 0,
      "outputs": [
        {
          "output_type": "stream",
          "text": [
            "[0.29365855650424955, 0.8818]\n"
          ],
          "name": "stdout"
        }
      ]
    },
    {
      "metadata": {
        "id": "s81g2CR5jZ86",
        "colab_type": "code",
        "outputId": "17073f7d-7e95-4923-cc99-4bb849cb5dd9",
        "colab": {
          "base_uri": "https://localhost:8080/",
          "height": 155
        }
      },
      "cell_type": "code",
      "source": [
        "# generate predictions on new data\n",
        "predictions = model.predict(X_test)\n",
        "print(predictions.shape)\n",
        "print(predictions)"
      ],
      "execution_count": 0,
      "outputs": [
        {
          "output_type": "stream",
          "text": [
            "(25000, 1)\n",
            "[[0.31274527]\n",
            " [0.99851286]\n",
            " [0.88471806]\n",
            " ...\n",
            " [0.09784046]\n",
            " [0.17051432]\n",
            " [0.4878007 ]]\n"
          ],
          "name": "stdout"
        }
      ]
    },
    {
      "metadata": {
        "id": "F-L00I9oj6lw",
        "colab_type": "text"
      },
      "cell_type": "markdown",
      "source": [
        "# Multiclass Classification"
      ]
    },
    {
      "metadata": {
        "id": "F4xiUuwamz2Y",
        "colab_type": "text"
      },
      "cell_type": "markdown",
      "source": [
        "The build in way\n",
        "```\n",
        "from keras.utils.np_utils import to_categorical\n",
        "\n",
        "one_hot_train_labels = to_categorical(train_labels)\n",
        "one_hot_test_labels = to_categorical(test_labels)\n",
        "```"
      ]
    },
    {
      "metadata": {
        "id": "KrIcB8m5sDzc",
        "colab_type": "code",
        "colab": {}
      },
      "cell_type": "code",
      "source": [
        "# The Reuters dataset\n",
        "(train_data, train_labels), (test_data, test_labels) = keras.datasets.reuters.load_data(num_words=10000)"
      ],
      "execution_count": 0,
      "outputs": []
    },
    {
      "metadata": {
        "id": "OEwIHQZSse80",
        "colab_type": "code",
        "colab": {}
      },
      "cell_type": "code",
      "source": [
        "import numpy as np\n",
        "import keras\n",
        "def vectorize_sequences(sequences, dimension=10000):\n",
        "  results = np.zeros((len(sequences), dimension))\n",
        "  for i, sequence in enumerate(sequences):\n",
        "    results[i, sequence] = 1\n",
        "  return results\n",
        "\n",
        "x_train = vectorize_sequences(train_data)\n",
        "x_test  = vectorize_sequences(test_data)"
      ],
      "execution_count": 0,
      "outputs": []
    },
    {
      "metadata": {
        "id": "L7c5R1NTteTf",
        "colab_type": "code",
        "colab": {}
      },
      "cell_type": "code",
      "source": [
        "def to_one_hot(labels, dimension=46):\n",
        "  results = np.zeros((len(labels), dimension))\n",
        "  for i, label in enumerate(labels):\n",
        "    results[i, label] = 1.\n",
        "  return results\n",
        "\n",
        "one_hot_train_labels = to_one_hot(train_labels)\n",
        "one_hot_test_labels  = to_one_hot(test_labels)"
      ],
      "execution_count": 0,
      "outputs": []
    },
    {
      "metadata": {
        "id": "Ai9wBZFguERC",
        "colab_type": "code",
        "colab": {}
      },
      "cell_type": "code",
      "source": [
        "from keras.utils.np_utils import to_categorical\n",
        "one_hot_train_labels = to_categorical(train_labels)\n",
        "one_hot_test_labels = to_categorical(test_labels)"
      ],
      "execution_count": 0,
      "outputs": []
    },
    {
      "metadata": {
        "id": "s5kfwS6JuUcR",
        "colab_type": "code",
        "colab": {}
      },
      "cell_type": "code",
      "source": [
        "from keras import models\n",
        "from keras import layers\n",
        "\n",
        "model = models.Sequential()\n",
        "model.add(layers.Dense(64, activation='relu', input_shape=(10000,)))\n",
        "model.add(layers.Dense(64, activation='relu'))\n",
        "model.add(layers.Dense(46, activation='softmax'))\n",
        "\n",
        "model.compile(optimizer='rmsprop', loss='categorical_crossentropy', metrics=['acc'])\n"
      ],
      "execution_count": 0,
      "outputs": []
    },
    {
      "metadata": {
        "id": "Zfgatwstu3rz",
        "colab_type": "code",
        "colab": {}
      },
      "cell_type": "code",
      "source": [
        "x_val = x_train[:1000]\n",
        "partila_x_train = x_train[1000:]\n",
        "y_val = one_hot_train_labels[:1000]\n",
        "partial_y_train = one_hot_train_labels[1000:]"
      ],
      "execution_count": 0,
      "outputs": []
    },
    {
      "metadata": {
        "id": "aQipcmEUvbJ-",
        "colab_type": "code",
        "colab": {
          "base_uri": "https://localhost:8080/",
          "height": 747
        },
        "outputId": "f2adc90d-45bd-4752-8226-6d1a4e8f11bc"
      },
      "cell_type": "code",
      "source": [
        "history = model.fit(partila_x_train, partial_y_train, epochs=20, batch_size=512, validation_data=(x_val,y_val))"
      ],
      "execution_count": 52,
      "outputs": [
        {
          "output_type": "stream",
          "text": [
            "Train on 7982 samples, validate on 1000 samples\n",
            "Epoch 1/20\n",
            "7982/7982 [==============================] - 1s 95us/step - loss: 2.8535 - acc: 0.4022 - val_loss: 1.9506 - val_acc: 0.6340\n",
            "Epoch 2/20\n",
            "7982/7982 [==============================] - 1s 73us/step - loss: 1.5744 - acc: 0.6898 - val_loss: 1.3817 - val_acc: 0.7110\n",
            "Epoch 3/20\n",
            "7982/7982 [==============================] - 1s 73us/step - loss: 1.1286 - acc: 0.7676 - val_loss: 1.1845 - val_acc: 0.7390\n",
            "Epoch 4/20\n",
            "7982/7982 [==============================] - 1s 72us/step - loss: 0.8774 - acc: 0.8226 - val_loss: 1.0474 - val_acc: 0.7810\n",
            "Epoch 5/20\n",
            "7982/7982 [==============================] - 1s 69us/step - loss: 0.6982 - acc: 0.8559 - val_loss: 0.9800 - val_acc: 0.8030\n",
            "Epoch 6/20\n",
            "7982/7982 [==============================] - 1s 72us/step - loss: 0.5531 - acc: 0.8899 - val_loss: 0.9446 - val_acc: 0.7990\n",
            "Epoch 7/20\n",
            "7982/7982 [==============================] - 1s 71us/step - loss: 0.4479 - acc: 0.9100 - val_loss: 0.9432 - val_acc: 0.8090\n",
            "Epoch 8/20\n",
            "7982/7982 [==============================] - 1s 73us/step - loss: 0.3678 - acc: 0.9256 - val_loss: 0.9017 - val_acc: 0.8080\n",
            "Epoch 9/20\n",
            "7982/7982 [==============================] - 1s 72us/step - loss: 0.3041 - acc: 0.9356 - val_loss: 0.9124 - val_acc: 0.8160\n",
            "Epoch 10/20\n",
            "7982/7982 [==============================] - 1s 72us/step - loss: 0.2597 - acc: 0.9412 - val_loss: 0.9119 - val_acc: 0.8170\n",
            "Epoch 11/20\n",
            "7982/7982 [==============================] - 1s 70us/step - loss: 0.2226 - acc: 0.9495 - val_loss: 0.9243 - val_acc: 0.8190\n",
            "Epoch 12/20\n",
            "7982/7982 [==============================] - 1s 70us/step - loss: 0.1957 - acc: 0.9513 - val_loss: 0.9536 - val_acc: 0.8110\n",
            "Epoch 13/20\n",
            "7982/7982 [==============================] - 1s 72us/step - loss: 0.1781 - acc: 0.9540 - val_loss: 0.9469 - val_acc: 0.8180\n",
            "Epoch 14/20\n",
            "7982/7982 [==============================] - 1s 70us/step - loss: 0.1601 - acc: 0.9541 - val_loss: 0.9979 - val_acc: 0.8060\n",
            "Epoch 15/20\n",
            "7982/7982 [==============================] - 1s 72us/step - loss: 0.1495 - acc: 0.9553 - val_loss: 1.0342 - val_acc: 0.8000\n",
            "Epoch 16/20\n",
            "7982/7982 [==============================] - 1s 70us/step - loss: 0.1385 - acc: 0.9555 - val_loss: 1.0206 - val_acc: 0.8040\n",
            "Epoch 17/20\n",
            "7982/7982 [==============================] - 1s 70us/step - loss: 0.1317 - acc: 0.9558 - val_loss: 1.0802 - val_acc: 0.8040\n",
            "Epoch 18/20\n",
            "7982/7982 [==============================] - 1s 70us/step - loss: 0.1282 - acc: 0.9553 - val_loss: 1.0395 - val_acc: 0.8050\n",
            "Epoch 19/20\n",
            "7982/7982 [==============================] - 1s 72us/step - loss: 0.1227 - acc: 0.9584 - val_loss: 1.0585 - val_acc: 0.8080\n",
            "Epoch 20/20\n",
            "7982/7982 [==============================] - 1s 70us/step - loss: 0.1150 - acc: 0.9560 - val_loss: 1.0589 - val_acc: 0.8020\n"
          ],
          "name": "stdout"
        }
      ]
    },
    {
      "metadata": {
        "id": "DF9guAU5wVfb",
        "colab_type": "code",
        "colab": {}
      },
      "cell_type": "code",
      "source": [
        "# visualization\n",
        "import matplotlib.pyplot as plt\n",
        "\n",
        "def plot_loss(history):\n",
        "  history_dict = history.history\n",
        "  loss = history_dict['loss']\n",
        "  #val_loss = history_dict=['val_loss'] \n",
        "  val_loss = history_dict['val_loss']\n",
        "  assert len(loss) == len(val_loss)\n",
        "  \n",
        "  epochs = range(1, len(loss)+1)\n",
        "  plt.plot(epochs, loss, 'bo', label='Training loss')\n",
        "  plt.plot(epochs, val_loss, 'b', label='Validation loss')\n",
        "  plt.title('Training and validation loss')\n",
        "  plt.xlabel('Epoch')\n",
        "  plt.ylabel('Loss')\n",
        "  plt.legend()\n",
        "  plt.show()\n",
        "  \n",
        "def plot_acc(history):\n",
        "  history_dict = history.history\n",
        "  acc = history_dict['acc']\n",
        "  val_acc = history_dict['val_acc']\n",
        "  \n",
        "  epochs = range(1, len(acc)+1)\n",
        "  plt.plot(epochs, acc, 'bo', label='Training accuracy')\n",
        "  plt.plot(epochs, val_acc, 'b', label='Validation accuracy')\n",
        "  plt.title('Training and validation accuracy')\n",
        "  plt.xlabel('Epoch')\n",
        "  plt.ylabel('Accuracy')\n",
        "  plt.legend()\n",
        "  plt.show()"
      ],
      "execution_count": 0,
      "outputs": []
    },
    {
      "metadata": {
        "id": "YKKP6SUezTDN",
        "colab_type": "code",
        "colab": {
          "base_uri": "https://localhost:8080/",
          "height": 376
        },
        "outputId": "75cab4ee-4705-4687-ca3b-73df04b9cd51"
      },
      "cell_type": "code",
      "source": [
        "plot_acc(history)"
      ],
      "execution_count": 54,
      "outputs": [
        {
          "output_type": "display_data",
          "data": {
            "image/png": "[encoded data removed]",
            "text/plain": [
              "<Figure size 576x396 with 1 Axes>"
            ]
          },
          "metadata": {
            "tags": []
          }
        }
      ]
    },
    {
      "metadata": {
        "id": "jucPCs9_yUnt",
        "colab_type": "code",
        "colab": {
          "base_uri": "https://localhost:8080/",
          "height": 376
        },
        "outputId": "16d8c192-fe2a-47b5-e3ac-d73b4b312d85"
      },
      "cell_type": "code",
      "source": [
        "plot_loss(history)"
      ],
      "execution_count": 55,
      "outputs": [
        {
          "output_type": "display_data",
          "data": {
            "image/png": "[encoded data removed]",
            "text/plain": [
              "<Figure size 576x396 with 1 Axes>"
            ]
          },
          "metadata": {
            "tags": []
          }
        }
      ]
    },
    {
      "metadata": {
        "id": "KH1PLlwU0FhE",
        "colab_type": "code",
        "colab": {
          "base_uri": "https://localhost:8080/",
          "height": 366
        },
        "outputId": "00aa57d1-0aa5-472d-e7d5-75cd3f780395"
      },
      "cell_type": "code",
      "source": [
        "# The network begins to overfit after nine epochs\n",
        "history = model.fit(partila_x_train, partial_y_train, epochs=9, batch_size=512, validation_data=(x_val,y_val))"
      ],
      "execution_count": 57,
      "outputs": [
        {
          "output_type": "stream",
          "text": [
            "Train on 7982 samples, validate on 1000 samples\n",
            "Epoch 1/9\n",
            "7982/7982 [==============================] - 1s 106us/step - loss: 2.6434 - acc: 0.5253 - val_loss: 1.7688 - val_acc: 0.6320\n",
            "Epoch 2/9\n",
            "7982/7982 [==============================] - 1s 80us/step - loss: 1.4293 - acc: 0.7088 - val_loss: 1.3315 - val_acc: 0.6980\n",
            "Epoch 3/9\n",
            "7982/7982 [==============================] - 1s 80us/step - loss: 1.0527 - acc: 0.7844 - val_loss: 1.1422 - val_acc: 0.7480\n",
            "Epoch 4/9\n",
            "7982/7982 [==============================] - 1s 74us/step - loss: 0.8196 - acc: 0.8317 - val_loss: 1.0438 - val_acc: 0.7710\n",
            "Epoch 5/9\n",
            "7982/7982 [==============================] - 1s 73us/step - loss: 0.6520 - acc: 0.8644 - val_loss: 0.9768 - val_acc: 0.7980\n",
            "Epoch 6/9\n",
            "7982/7982 [==============================] - 1s 75us/step - loss: 0.5182 - acc: 0.8944 - val_loss: 0.9237 - val_acc: 0.8080\n",
            "Epoch 7/9\n",
            "7982/7982 [==============================] - 1s 73us/step - loss: 0.4165 - acc: 0.9139 - val_loss: 0.8967 - val_acc: 0.8110\n",
            "Epoch 8/9\n",
            "7982/7982 [==============================] - 1s 74us/step - loss: 0.3386 - acc: 0.9265 - val_loss: 0.9305 - val_acc: 0.8020\n",
            "Epoch 9/9\n",
            "7982/7982 [==============================] - 1s 73us/step - loss: 0.2850 - acc: 0.9364 - val_loss: 0.8983 - val_acc: 0.8120\n"
          ],
          "name": "stdout"
        }
      ]
    },
    {
      "metadata": {
        "id": "GnekhCOc3KzA",
        "colab_type": "code",
        "colab": {
          "base_uri": "https://localhost:8080/",
          "height": 51
        },
        "outputId": "12b2a602-8768-4ed7-ece9-c61b13e47431"
      },
      "cell_type": "code",
      "source": [
        "results = model.evaluate(x_test, one_hot_test_labels)\n",
        "print(results)"
      ],
      "execution_count": 59,
      "outputs": [
        {
          "output_type": "stream",
          "text": [
            "2246/2246 [==============================] - 0s 124us/step\n",
            "[0.9738257716833643, 0.7827248441674087]\n"
          ],
          "name": "stdout"
        }
      ]
    },
    {
      "metadata": {
        "id": "7wVq_f5c32Kf",
        "colab_type": "code",
        "colab": {
          "base_uri": "https://localhost:8080/",
          "height": 34
        },
        "outputId": "68e7c8b8-b8ed-464d-bdad-51aa8c79e58b"
      },
      "cell_type": "code",
      "source": [
        "# the accuracy of a purely random classifier\n",
        "import copy\n",
        "test_labels_copy = copy.copy(test_labels)\n",
        "np.random.shuffle(test_labels_copy)\n",
        "hits_array = np.array(test_labels) == np.array(test_labels_copy)\n",
        "float(np.sum(hits_array)) / len(test_labels)"
      ],
      "execution_count": 60,
      "outputs": [
        {
          "output_type": "execute_result",
          "data": {
            "text/plain": [
              "0.20169189670525378"
            ]
          },
          "metadata": {
            "tags": []
          },
          "execution_count": 60
        }
      ]
    },
    {
      "metadata": {
        "id": "vynURv98XkKL",
        "colab_type": "code",
        "colab": {
          "base_uri": "https://localhost:8080/",
          "height": 34
        },
        "outputId": "ddb257e6-b2f2-486e-bca8-e4a01bd24833"
      },
      "cell_type": "code",
      "source": [
        "predictions = model.predict(x_test)\n",
        "print(np.argmax(predictions[0]))"
      ],
      "execution_count": 62,
      "outputs": [
        {
          "output_type": "stream",
          "text": [
            "3\n"
          ],
          "name": "stdout"
        }
      ]
    },
    {
      "metadata": {
        "id": "eXOFdEanY-WP",
        "colab_type": "text"
      },
      "cell_type": "markdown",
      "source": [
        "A diiferent way to handle the labels and the loss\n",
        "\n",
        "**cast them as an integer tensor**"
      ]
    },
    {
      "metadata": {
        "id": "P3KYy1PmZhaV",
        "colab_type": "code",
        "colab": {
          "base_uri": "https://localhost:8080/",
          "height": 69
        },
        "outputId": "bcacd401-fb58-43e4-a712-4f803945c631"
      },
      "cell_type": "code",
      "source": [
        "y_train = np.array(train_labels)\n",
        "y_test = np.array(test_labels)\n",
        "print(y_train.shape)\n",
        "print(y_test.shape)\n",
        "print(y_train[0])"
      ],
      "execution_count": 64,
      "outputs": [
        {
          "output_type": "stream",
          "text": [
            "(8982,)\n",
            "(2246,)\n",
            "3\n"
          ],
          "name": "stdout"
        }
      ]
    },
    {
      "metadata": {
        "id": "FDfHMyIhZ0-X",
        "colab_type": "text"
      },
      "cell_type": "markdown",
      "source": [
        "**The only thing this approach would change is the choice of the loss function.**\n",
        "\n",
        "**categorical_crossentropy** expects the labels to follow **a categorical encoding.**\n",
        "\n",
        "**sparce_categorical_crossentropy** expects **integer labels.**\n",
        "\n",
        "just different interface, but mathematically the same\n"
      ]
    },
    {
      "metadata": {
        "id": "OVxZaqIdZzP0",
        "colab_type": "code",
        "colab": {}
      },
      "cell_type": "code",
      "source": [
        "def create_model():\n",
        "  model = models.Sequential()\n",
        "  model.add(layers.Dense(64, activation='relu', input_shape=(10000,)))\n",
        "  model.add(layers.Dense(4, activation = 'relu'))\n",
        "  model.add(layers.Dense(46, activation='softmax'))\n",
        "  return model\n",
        "\n",
        "model = create_model()\n",
        "\n",
        "\n",
        "model.compile(optimizer='rmsprop', loss = 'sparse_categorical_crossentropy',\n",
        "             metrics=['acc'])"
      ],
      "execution_count": 0,
      "outputs": []
    },
    {
      "metadata": {
        "id": "NTUUBNpGa1Ud",
        "colab_type": "code",
        "colab": {}
      },
      "cell_type": "code",
      "source": [
        "x_val = x_train[:1000]\n",
        "y_val = y_train[:1000]\n",
        "partial_x_train = x_train[1000:]\n",
        "partial_y_train = y_train[1000:]"
      ],
      "execution_count": 0,
      "outputs": []
    },
    {
      "metadata": {
        "id": "7uEvrjmDbgP1",
        "colab_type": "code",
        "colab": {
          "base_uri": "https://localhost:8080/",
          "height": 747
        },
        "outputId": "a5b8afbc-16b1-4e45-e163-4493e99660ab"
      },
      "cell_type": "code",
      "source": [
        "hist = model.fit(partial_x_train, partial_y_train, epochs=20,\n",
        "                batch_size=128, validation_data=(x_val, y_val))"
      ],
      "execution_count": 72,
      "outputs": [
        {
          "output_type": "stream",
          "text": [
            "Train on 7982 samples, validate on 1000 samples\n",
            "Epoch 1/20\n",
            "7982/7982 [==============================] - 1s 133us/step - loss: 3.1938 - acc: 0.2061 - val_loss: 2.5442 - val_acc: 0.3730\n",
            "Epoch 2/20\n",
            "7982/7982 [==============================] - 1s 93us/step - loss: 2.1180 - acc: 0.4672 - val_loss: 1.8125 - val_acc: 0.5780\n",
            "Epoch 3/20\n",
            "7982/7982 [==============================] - 1s 93us/step - loss: 1.6260 - acc: 0.6101 - val_loss: 1.5873 - val_acc: 0.6210\n",
            "Epoch 4/20\n",
            "7982/7982 [==============================] - 1s 94us/step - loss: 1.4311 - acc: 0.6419 - val_loss: 1.4989 - val_acc: 0.6350\n",
            "Epoch 5/20\n",
            "7982/7982 [==============================] - 1s 92us/step - loss: 1.3036 - acc: 0.6582 - val_loss: 1.4543 - val_acc: 0.6340\n",
            "Epoch 6/20\n",
            "7982/7982 [==============================] - 1s 95us/step - loss: 1.2126 - acc: 0.6551 - val_loss: 1.4237 - val_acc: 0.6250\n",
            "Epoch 7/20\n",
            "7982/7982 [==============================] - 1s 93us/step - loss: 1.1285 - acc: 0.6543 - val_loss: 1.4086 - val_acc: 0.6220\n",
            "Epoch 8/20\n",
            "7982/7982 [==============================] - 1s 94us/step - loss: 1.0576 - acc: 0.6644 - val_loss: 1.3852 - val_acc: 0.6280\n",
            "Epoch 9/20\n",
            "7982/7982 [==============================] - 1s 96us/step - loss: 0.9947 - acc: 0.6958 - val_loss: 1.3764 - val_acc: 0.6510\n",
            "Epoch 10/20\n",
            "7982/7982 [==============================] - 1s 97us/step - loss: 0.9408 - acc: 0.7194 - val_loss: 1.4001 - val_acc: 0.6650\n",
            "Epoch 11/20\n",
            "7982/7982 [==============================] - 1s 96us/step - loss: 0.8958 - acc: 0.7337 - val_loss: 1.4290 - val_acc: 0.6740\n",
            "Epoch 12/20\n",
            "7982/7982 [==============================] - 1s 95us/step - loss: 0.8553 - acc: 0.7481 - val_loss: 1.4386 - val_acc: 0.6760\n",
            "Epoch 13/20\n",
            "7982/7982 [==============================] - 1s 96us/step - loss: 0.8228 - acc: 0.7565 - val_loss: 1.4696 - val_acc: 0.6760\n",
            "Epoch 14/20\n",
            "7982/7982 [==============================] - 1s 96us/step - loss: 0.7932 - acc: 0.7714 - val_loss: 1.5375 - val_acc: 0.6740\n",
            "Epoch 15/20\n",
            "7982/7982 [==============================] - 1s 95us/step - loss: 0.7659 - acc: 0.7840 - val_loss: 1.5467 - val_acc: 0.6700\n",
            "Epoch 16/20\n",
            "7982/7982 [==============================] - 1s 90us/step - loss: 0.7384 - acc: 0.7934 - val_loss: 1.5717 - val_acc: 0.6750\n",
            "Epoch 17/20\n",
            "7982/7982 [==============================] - 1s 94us/step - loss: 0.7181 - acc: 0.8021 - val_loss: 1.5684 - val_acc: 0.6720\n",
            "Epoch 18/20\n",
            "7982/7982 [==============================] - 1s 92us/step - loss: 0.6939 - acc: 0.8102 - val_loss: 1.6859 - val_acc: 0.6780\n",
            "Epoch 19/20\n",
            "7982/7982 [==============================] - 1s 94us/step - loss: 0.6766 - acc: 0.8165 - val_loss: 1.7207 - val_acc: 0.6760\n",
            "Epoch 20/20\n",
            "7982/7982 [==============================] - 1s 94us/step - loss: 0.6596 - acc: 0.8173 - val_loss: 1.7723 - val_acc: 0.6730\n"
          ],
          "name": "stdout"
        }
      ]
    },
    {
      "metadata": {
        "id": "YsdtBjUpcUaQ",
        "colab_type": "code",
        "colab": {
          "base_uri": "https://localhost:8080/",
          "height": 735
        },
        "outputId": "f2722b7e-2269-473e-89d0-8968ccdc7dc5"
      },
      "cell_type": "code",
      "source": [
        "plot_loss(hist)\n",
        "plot_acc(hist)"
      ],
      "execution_count": 74,
      "outputs": [
        {
          "output_type": "display_data",
          "data": {
            "image/png": "[encoded data removed]",
            "text/plain": [
              "<Figure size 576x396 with 1 Axes>"
            ]
          },
          "metadata": {
            "tags": []
          }
        },
        {
          "output_type": "display_data",
          "data": {
            "image/png": "[encoded data removed]",
            "text/plain": [
              "<Figure size 576x396 with 1 Axes>"
            ]
          },
          "metadata": {
            "tags": []
          }
        }
      ]
    },
    {
      "metadata": {
        "id": "vkaFukEncoYQ",
        "colab_type": "text"
      },
      "cell_type": "markdown",
      "source": [
        "# Regression Example"
      ]
    },
    {
      "metadata": {
        "id": "Hh4KLyqvcrDu",
        "colab_type": "code",
        "colab": {}
      },
      "cell_type": "code",
      "source": [
        ""
      ],
      "execution_count": 0,
      "outputs": []
    }
  ]
}