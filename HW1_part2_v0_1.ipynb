{
  "nbformat": 4,
  "nbformat_minor": 0,
  "metadata": {
    "colab": {
      "name": "HW1-part2-v0.1.ipynb",
      "version": "0.3.2",
      "provenance": [],
      "collapsed_sections": [],
      "include_colab_link": true
    },
    "kernelspec": {
      "name": "python3",
      "display_name": "Python 3"
    },
    "accelerator": "GPU"
  },
  "cells": [
    {
      "cell_type": "markdown",
      "metadata": {
        "id": "view-in-github",
        "colab_type": "text"
      },
      "source": [
        "<a href=\"https://colab.research.google.com/github/TIANBOQIU/AppliedDeepLearning/blob/master/HW1_part2_v0_1.ipynb\" target=\"_parent\"><img src=\"https://colab.research.google.com/assets/colab-badge.svg\" alt=\"Open In Colab\"/></a>"
      ]
    },
    {
      "metadata": {
        "id": "frWML9H_CBMa",
        "colab_type": "text"
      },
      "cell_type": "markdown",
      "source": [
        "#HW1\n",
        "**Tianbo Qiu (tq2137)**\n",
        "\n",
        "##Part 2\n",
        "**Classify the Fashion Mnist using the Keras Subclassing API**\n",
        "\n",
        "**2.5 The linear model**"
      ]
    },
    {
      "metadata": {
        "id": "_NssX2aIHWQ0",
        "colab_type": "code",
        "outputId": "eb25081a-9c0a-444e-acb3-1534657c0aa9",
        "colab": {
          "base_uri": "https://localhost:8080/",
          "height": 366
        }
      },
      "cell_type": "code",
      "source": [
        "!pip install tf-nightly-2.0-preview"
      ],
      "execution_count": 1,
      "outputs": [
        {
          "output_type": "stream",
          "text": [
            "Requirement already satisfied: tf-nightly-2.0-preview in /usr/local/lib/python3.6/dist-packages (2.0.0.dev20190207)\n",
            "Requirement already satisfied: wheel>=0.26 in /usr/local/lib/python3.6/dist-packages (from tf-nightly-2.0-preview) (0.32.3)\n",
            "Requirement already satisfied: numpy<2.0,>=1.14.5 in /usr/local/lib/python3.6/dist-packages (from tf-nightly-2.0-preview) (1.14.6)\n",
            "Requirement already satisfied: gast>=0.2.0 in /usr/local/lib/python3.6/dist-packages (from tf-nightly-2.0-preview) (0.2.2)\n",
            "Requirement already satisfied: tensorflow-estimator-2.0-preview in /usr/local/lib/python3.6/dist-packages (from tf-nightly-2.0-preview) (1.13.0.dev2019012800)\n",
            "Requirement already satisfied: google-pasta>=0.1.1 in /usr/local/lib/python3.6/dist-packages (from tf-nightly-2.0-preview) (0.1.1)\n",
            "Requirement already satisfied: termcolor>=1.1.0 in /usr/local/lib/python3.6/dist-packages (from tf-nightly-2.0-preview) (1.1.0)\n",
            "Requirement already satisfied: protobuf>=3.6.1 in /usr/local/lib/python3.6/dist-packages (from tf-nightly-2.0-preview) (3.6.1)\n",
            "Requirement already satisfied: absl-py>=0.1.6 in /usr/local/lib/python3.6/dist-packages (from tf-nightly-2.0-preview) (0.7.0)\n",
            "Requirement already satisfied: keras-preprocessing>=1.0.5 in /usr/local/lib/python3.6/dist-packages (from tf-nightly-2.0-preview) (1.0.9)\n",
            "Requirement already satisfied: tb-nightly<1.14.0a0,>=1.13.0a0 in /usr/local/lib/python3.6/dist-packages (from tf-nightly-2.0-preview) (1.13.0a20190207)\n",
            "Requirement already satisfied: keras-applications>=1.0.6 in /usr/local/lib/python3.6/dist-packages (from tf-nightly-2.0-preview) (1.0.7)\n",
            "Requirement already satisfied: astor>=0.6.0 in /usr/local/lib/python3.6/dist-packages (from tf-nightly-2.0-preview) (0.7.1)\n",
            "Requirement already satisfied: grpcio>=1.8.6 in /usr/local/lib/python3.6/dist-packages (from tf-nightly-2.0-preview) (1.15.0)\n",
            "Requirement already satisfied: six>=1.10.0 in /usr/local/lib/python3.6/dist-packages (from tf-nightly-2.0-preview) (1.11.0)\n",
            "Requirement already satisfied: setuptools in /usr/local/lib/python3.6/dist-packages (from protobuf>=3.6.1->tf-nightly-2.0-preview) (40.8.0)\n",
            "Requirement already satisfied: markdown>=2.6.8 in /usr/local/lib/python3.6/dist-packages (from tb-nightly<1.14.0a0,>=1.13.0a0->tf-nightly-2.0-preview) (3.0.1)\n",
            "Requirement already satisfied: werkzeug>=0.11.15 in /usr/local/lib/python3.6/dist-packages (from tb-nightly<1.14.0a0,>=1.13.0a0->tf-nightly-2.0-preview) (0.14.1)\n",
            "Requirement already satisfied: h5py in /usr/local/lib/python3.6/dist-packages (from keras-applications>=1.0.6->tf-nightly-2.0-preview) (2.8.0)\n"
          ],
          "name": "stdout"
        }
      ]
    },
    {
      "metadata": {
        "id": "Mb6-wdScHtr3",
        "colab_type": "code",
        "outputId": "5316b80f-2be3-4d3c-9111-b46a3fac9040",
        "colab": {
          "base_uri": "https://localhost:8080/",
          "height": 34
        }
      },
      "cell_type": "code",
      "source": [
        "from __future__ import absolute_import, print_function, division\n",
        "import tensorflow as tf\n",
        "print(tf.__version__)"
      ],
      "execution_count": 3,
      "outputs": [
        {
          "output_type": "stream",
          "text": [
            "2.0.0-dev20190207\n"
          ],
          "name": "stdout"
        }
      ]
    },
    {
      "metadata": {
        "id": "82gfmEUdJpAa",
        "colab_type": "code",
        "colab": {
          "base_uri": "https://localhost:8080/",
          "height": 175
        },
        "outputId": "7b806c19-1e2d-40e5-ae23-f73b65f59068"
      },
      "cell_type": "code",
      "source": [
        "# Data\n",
        "from tensorflow import keras\n",
        "fashion_mnist = keras.datasets.fashion_mnist\n",
        "(train_data, train_labels), (test_data, test_labels) = fashion_mnist.load_data()"
      ],
      "execution_count": 4,
      "outputs": [
        {
          "output_type": "stream",
          "text": [
            "Downloading data from https://storage.googleapis.com/tensorflow/tf-keras-datasets/train-labels-idx1-ubyte.gz\n",
            "32768/29515=================================] - 0s 0us/step\n",
            "Downloading data from https://storage.googleapis.com/tensorflow/tf-keras-datasets/train-images-idx3-ubyte.gz\n",
            "26427392/26421880==============================] - 0s 0us/step\n",
            "Downloading data from https://storage.googleapis.com/tensorflow/tf-keras-datasets/t10k-labels-idx1-ubyte.gz\n",
            "8192/5148===============================================] - 0s 0us/step\n",
            "Downloading data from https://storage.googleapis.com/tensorflow/tf-keras-datasets/t10k-images-idx3-ubyte.gz\n",
            "4423680/4422102==============================] - 0s 0us/step\n"
          ],
          "name": "stdout"
        }
      ]
    },
    {
      "metadata": {
        "id": "c74iS7VfLA1I",
        "colab_type": "code",
        "colab": {}
      },
      "cell_type": "code",
      "source": [
        "train_data = train_data/255.0\n",
        "test_data = test_data/255.0\n",
        "BATCH_SIZE = 512\n",
        "BUFFER_SIZE = len(train_data)\n",
        "\n",
        "val_data = train_data[:10000]\n",
        "val_labels = train_labels[:10000]\n",
        "train_data = train_data[10000:]\n",
        "train_labels = train_labels[10000:]\n",
        "\n",
        "#train = tf.data.Dataset.from_tensor_slices((train_data, train_labels)).shuffle(BUFFER_SIZE).batch(BATCH_SIZE)\n",
        "train = tf.data.Dataset.from_tensor_slices((train_data, train_labels)).batch(BATCH_SIZE)\n",
        "test = tf.data.Dataset.from_tensor_slices((test_data, test_labels)).batch(BATCH_SIZE)\n",
        "val = tf.data.Dataset.from_tensor_slices((val_data, val_labels)).batch(BATCH_SIZE)"
      ],
      "execution_count": 0,
      "outputs": []
    },
    {
      "metadata": {
        "id": "7659J3_7hOz-",
        "colab_type": "code",
        "outputId": "5b920eec-32a1-472a-ca6e-8ecca58df652",
        "colab": {
          "base_uri": "https://localhost:8080/",
          "height": 883
        }
      },
      "cell_type": "code",
      "source": [
        "class LinearModel(keras.Model):\n",
        "  def __init__(self):\n",
        "    super(LinearModel, self).__init__()\n",
        "    self.flatten = keras.layers.Flatten(input_shape=(28,28))\n",
        "    self.d1 = keras.layers.Dense(10, activation=tf.nn.softmax)\n",
        "   \n",
        "  def call(self, x):\n",
        "    x = self.flatten(x)\n",
        "    return self.d1(x)\n",
        "\n",
        "model = LinearModel()\n",
        "\n",
        "loss_function = keras.losses.SparseCategoricalCrossentropy(from_logits=False)\n",
        "optimizer = keras.optimizers.Adam()\n",
        "\n",
        "acc = keras.metrics.SparseCategoricalAccuracy(name='train_accuracy')\n",
        "test_acc = keras.metrics.SparseCategoricalAccuracy(name='test_accuracy')\n",
        "val_acc = keras.metrics.SparseCategoricalAccuracy(name='validation_accuracy')\n",
        "\n",
        "history = {'acc':[],'val_acc':[]}\n",
        "\n",
        "\n",
        "def train_step(images, labels):\n",
        "  with tf.GradientTape() as tape:\n",
        "    predictions = model(images)\n",
        "    train_loss = loss_function(y_true=labels, y_pred=predictions)\n",
        "  \n",
        "  gradients = tape.gradient(train_loss, model.trainable_variables)\n",
        "  optimizer.apply_gradients(zip(gradients, model.trainable_variables))\n",
        "  \n",
        "  acc(labels,predictions)\n",
        "  return acc.result()\n",
        "\n",
        "  \n",
        "def test_step(images, labels):\n",
        "  global history\n",
        "  predictions = model(images)\n",
        "  test_loss = loss_function(y_true=labels, y_pred = predictions)\n",
        "  \n",
        "  test_acc(labels, predictions)\n",
        "  \n",
        "  \n",
        "def val_step(images, labels):\n",
        "  predictions = model(images)\n",
        "  val_loss = loss_function(y_true=labels, y_pred = predictions)\n",
        "  \n",
        "  val_acc(labels, predictions)\n",
        "  return val_acc.result()\n",
        "  \n",
        "EPOCHS = 50\n",
        "\n",
        "\n",
        "\n",
        "\n",
        "\n",
        "for epoch in range(EPOCHS):\n",
        "  for images, labels in train:\n",
        "    train_step(images, labels)\n",
        "    \n",
        "  for val_images, val_labels in val:\n",
        "    val_step(val_images, val_labels)\n",
        "    \n",
        "  template = \"Epoch {}, Training accuracy: {:.2f}, Validation accuracy: {:.2f}\"\n",
        "  history['acc'].append(acc.result())\n",
        "  history['val_acc'].append(val_acc.result())\n",
        "  print(template.format(epoch+1, acc.result()*100, val_acc.result()*100))"
      ],
      "execution_count": 6,
      "outputs": [
        {
          "output_type": "stream",
          "text": [
            "Epoch 1, Training accuracy: 64.03, Validation accuracy: 75.58\n",
            "Epoch 2, Training accuracy: 71.12, Validation accuracy: 77.54\n",
            "Epoch 3, Training accuracy: 74.32, Validation accuracy: 78.74\n",
            "Epoch 4, Training accuracy: 76.25, Validation accuracy: 79.64\n",
            "Epoch 5, Training accuracy: 77.56, Validation accuracy: 80.27\n",
            "Epoch 6, Training accuracy: 78.51, Validation accuracy: 80.77\n",
            "Epoch 7, Training accuracy: 79.25, Validation accuracy: 81.19\n",
            "Epoch 8, Training accuracy: 79.84, Validation accuracy: 81.53\n",
            "Epoch 9, Training accuracy: 80.33, Validation accuracy: 81.81\n",
            "Epoch 10, Training accuracy: 80.75, Validation accuracy: 82.06\n",
            "Epoch 11, Training accuracy: 81.11, Validation accuracy: 82.27\n",
            "Epoch 12, Training accuracy: 81.43, Validation accuracy: 82.45\n",
            "Epoch 13, Training accuracy: 81.71, Validation accuracy: 82.61\n",
            "Epoch 14, Training accuracy: 81.96, Validation accuracy: 82.77\n",
            "Epoch 15, Training accuracy: 82.18, Validation accuracy: 82.90\n",
            "Epoch 16, Training accuracy: 82.39, Validation accuracy: 83.03\n",
            "Epoch 17, Training accuracy: 82.57, Validation accuracy: 83.14\n",
            "Epoch 18, Training accuracy: 82.74, Validation accuracy: 83.24\n",
            "Epoch 19, Training accuracy: 82.90, Validation accuracy: 83.34\n",
            "Epoch 20, Training accuracy: 83.05, Validation accuracy: 83.42\n",
            "Epoch 21, Training accuracy: 83.19, Validation accuracy: 83.50\n",
            "Epoch 22, Training accuracy: 83.31, Validation accuracy: 83.58\n",
            "Epoch 23, Training accuracy: 83.43, Validation accuracy: 83.64\n",
            "Epoch 24, Training accuracy: 83.54, Validation accuracy: 83.71\n",
            "Epoch 25, Training accuracy: 83.65, Validation accuracy: 83.76\n",
            "Epoch 26, Training accuracy: 83.75, Validation accuracy: 83.82\n",
            "Epoch 27, Training accuracy: 83.84, Validation accuracy: 83.87\n",
            "Epoch 28, Training accuracy: 83.93, Validation accuracy: 83.92\n",
            "Epoch 29, Training accuracy: 84.01, Validation accuracy: 83.97\n",
            "Epoch 30, Training accuracy: 84.09, Validation accuracy: 84.02\n",
            "Epoch 31, Training accuracy: 84.17, Validation accuracy: 84.06\n",
            "Epoch 32, Training accuracy: 84.24, Validation accuracy: 84.10\n",
            "Epoch 33, Training accuracy: 84.31, Validation accuracy: 84.14\n",
            "Epoch 34, Training accuracy: 84.38, Validation accuracy: 84.17\n",
            "Epoch 35, Training accuracy: 84.44, Validation accuracy: 84.21\n",
            "Epoch 36, Training accuracy: 84.51, Validation accuracy: 84.24\n",
            "Epoch 37, Training accuracy: 84.56, Validation accuracy: 84.28\n",
            "Epoch 38, Training accuracy: 84.62, Validation accuracy: 84.31\n",
            "Epoch 39, Training accuracy: 84.68, Validation accuracy: 84.34\n",
            "Epoch 40, Training accuracy: 84.73, Validation accuracy: 84.37\n",
            "Epoch 41, Training accuracy: 84.78, Validation accuracy: 84.40\n",
            "Epoch 42, Training accuracy: 84.83, Validation accuracy: 84.43\n",
            "Epoch 43, Training accuracy: 84.87, Validation accuracy: 84.45\n",
            "Epoch 44, Training accuracy: 84.92, Validation accuracy: 84.48\n",
            "Epoch 45, Training accuracy: 84.96, Validation accuracy: 84.50\n",
            "Epoch 46, Training accuracy: 85.00, Validation accuracy: 84.53\n",
            "Epoch 47, Training accuracy: 85.05, Validation accuracy: 84.55\n",
            "Epoch 48, Training accuracy: 85.08, Validation accuracy: 84.57\n",
            "Epoch 49, Training accuracy: 85.12, Validation accuracy: 84.59\n",
            "Epoch 50, Training accuracy: 85.16, Validation accuracy: 84.61\n"
          ],
          "name": "stdout"
        }
      ]
    },
    {
      "metadata": {
        "id": "j6uI0xxtC9cI",
        "colab_type": "text"
      },
      "cell_type": "markdown",
      "source": [
        "**Training accuracy vs. Validation accuuracy**"
      ]
    },
    {
      "metadata": {
        "id": "LjzT_VHrkERK",
        "colab_type": "code",
        "outputId": "1964e6a7-3ec9-42bd-e64c-8a0d02c802ec",
        "colab": {
          "base_uri": "https://localhost:8080/",
          "height": 361
        }
      },
      "cell_type": "code",
      "source": [
        "import matplotlib.pyplot as plt\n",
        "def plot_acc(history):\n",
        "  history_dict = history\n",
        "  acc = history_dict['acc']\n",
        "  val_acc = history_dict['val_acc']\n",
        "  \n",
        "  epochs = range(1, len(acc)+1)\n",
        "  \n",
        "  plt.plot(epochs, acc, 'bo', label = 'Training accuracy')\n",
        "  plt.plot(epochs, val_acc, 'b', label = 'Validation accuracy')\n",
        "  plt.xlabel('Epochs')\n",
        "  plt.ylabel('Accuracy')\n",
        "  plt.legend()\n",
        "  plt.show()\n",
        "  \n",
        "plot_acc(history)\n",
        "#len(history['val_acc'])"
      ],
      "execution_count": 7,
      "outputs": [
        {
          "output_type": "display_data",
          "data": {
            "image/png": "[encoded data removed]",
            "text/plain": [
              "<Figure size 576x396 with 1 Axes>"
            ]
          },
          "metadata": {
            "tags": []
          }
        }
      ]
    },
    {
      "metadata": {
        "id": "wSh0JFDq55A1",
        "colab_type": "code",
        "outputId": "a8f75ba2-8d59-4d1c-cea4-9088aeeed457",
        "colab": {
          "base_uri": "https://localhost:8080/",
          "height": 883
        }
      },
      "cell_type": "code",
      "source": [
        "class DeepModel(keras.Model):\n",
        "  def __init__(self):\n",
        "    super(DeepModel, self).__init__()\n",
        "    self.flatten = keras.layers.Flatten(input_shape=(28,28))\n",
        "    self.d1 = keras.layers.Dense(128, activation=tf.nn.relu)\n",
        "    self.d2 = keras.layers.Dropout(0.2)\n",
        "    self.d3 = keras.layers.Dense(64, activation=tf.nn.relu)\n",
        "    self.d4 = keras.layers.Dense(10, activation=tf.nn.softmax)\n",
        "   \n",
        "  def call(self, x):\n",
        "    x = self.flatten(x)\n",
        "    x = self.d1(x)\n",
        "    x = self.d2(x)\n",
        "    x = self.d3(x)\n",
        "    return self.d4(x)\n",
        "  \n",
        "  \n",
        "model = DeepModel()\n",
        "\n",
        "# training\n",
        "for epoch in range(EPOCHS):\n",
        "  for images, labels in train:\n",
        "    train_step(images, labels)\n",
        "    \n",
        "  for val_images, val_labels in val:\n",
        "    val_step(val_images, val_labels)\n",
        "    \n",
        "  template = \"Epoch {}, Training accuracy: {:.2f}, Validation accuracy: {:.2f}\"\n",
        "  history['acc'].append(acc.result())\n",
        "  history['val_acc'].append(val_acc.result())\n",
        "  print(template.format(epoch+1, acc.result()*100, val_acc.result()*100))"
      ],
      "execution_count": 8,
      "outputs": [
        {
          "output_type": "stream",
          "text": [
            "Epoch 1, Training accuracy: 85.01, Validation accuracy: 84.62\n",
            "Epoch 2, Training accuracy: 85.03, Validation accuracy: 84.66\n",
            "Epoch 3, Training accuracy: 85.07, Validation accuracy: 84.71\n",
            "Epoch 4, Training accuracy: 85.12, Validation accuracy: 84.75\n",
            "Epoch 5, Training accuracy: 85.17, Validation accuracy: 84.80\n",
            "Epoch 6, Training accuracy: 85.23, Validation accuracy: 84.86\n",
            "Epoch 7, Training accuracy: 85.30, Validation accuracy: 84.91\n",
            "Epoch 8, Training accuracy: 85.37, Validation accuracy: 84.97\n",
            "Epoch 9, Training accuracy: 85.44, Validation accuracy: 85.02\n",
            "Epoch 10, Training accuracy: 85.52, Validation accuracy: 85.06\n",
            "Epoch 11, Training accuracy: 85.59, Validation accuracy: 85.10\n",
            "Epoch 12, Training accuracy: 85.67, Validation accuracy: 85.15\n",
            "Epoch 13, Training accuracy: 85.75, Validation accuracy: 85.19\n",
            "Epoch 14, Training accuracy: 85.83, Validation accuracy: 85.24\n",
            "Epoch 15, Training accuracy: 85.91, Validation accuracy: 85.28\n",
            "Epoch 16, Training accuracy: 85.99, Validation accuracy: 85.33\n",
            "Epoch 17, Training accuracy: 86.07, Validation accuracy: 85.38\n",
            "Epoch 18, Training accuracy: 86.16, Validation accuracy: 85.43\n",
            "Epoch 19, Training accuracy: 86.24, Validation accuracy: 85.47\n",
            "Epoch 20, Training accuracy: 86.33, Validation accuracy: 85.52\n",
            "Epoch 21, Training accuracy: 86.41, Validation accuracy: 85.56\n",
            "Epoch 22, Training accuracy: 86.49, Validation accuracy: 85.61\n",
            "Epoch 23, Training accuracy: 86.58, Validation accuracy: 85.65\n",
            "Epoch 24, Training accuracy: 86.66, Validation accuracy: 85.69\n",
            "Epoch 25, Training accuracy: 86.75, Validation accuracy: 85.73\n",
            "Epoch 26, Training accuracy: 86.83, Validation accuracy: 85.77\n",
            "Epoch 27, Training accuracy: 86.91, Validation accuracy: 85.81\n",
            "Epoch 28, Training accuracy: 87.00, Validation accuracy: 85.84\n",
            "Epoch 29, Training accuracy: 87.08, Validation accuracy: 85.88\n",
            "Epoch 30, Training accuracy: 87.16, Validation accuracy: 85.92\n",
            "Epoch 31, Training accuracy: 87.24, Validation accuracy: 85.95\n",
            "Epoch 32, Training accuracy: 87.32, Validation accuracy: 85.99\n",
            "Epoch 33, Training accuracy: 87.40, Validation accuracy: 86.03\n",
            "Epoch 34, Training accuracy: 87.48, Validation accuracy: 86.06\n",
            "Epoch 35, Training accuracy: 87.56, Validation accuracy: 86.09\n",
            "Epoch 36, Training accuracy: 87.64, Validation accuracy: 86.12\n",
            "Epoch 37, Training accuracy: 87.72, Validation accuracy: 86.15\n",
            "Epoch 38, Training accuracy: 87.79, Validation accuracy: 86.17\n",
            "Epoch 39, Training accuracy: 87.87, Validation accuracy: 86.20\n",
            "Epoch 40, Training accuracy: 87.94, Validation accuracy: 86.23\n",
            "Epoch 41, Training accuracy: 88.02, Validation accuracy: 86.26\n",
            "Epoch 42, Training accuracy: 88.09, Validation accuracy: 86.29\n",
            "Epoch 43, Training accuracy: 88.16, Validation accuracy: 86.31\n",
            "Epoch 44, Training accuracy: 88.24, Validation accuracy: 86.34\n",
            "Epoch 45, Training accuracy: 88.31, Validation accuracy: 86.36\n",
            "Epoch 46, Training accuracy: 88.38, Validation accuracy: 86.38\n",
            "Epoch 47, Training accuracy: 88.44, Validation accuracy: 86.41\n",
            "Epoch 48, Training accuracy: 88.51, Validation accuracy: 86.43\n",
            "Epoch 49, Training accuracy: 88.57, Validation accuracy: 86.45\n",
            "Epoch 50, Training accuracy: 88.64, Validation accuracy: 86.47\n"
          ],
          "name": "stdout"
        }
      ]
    }
  ]
}