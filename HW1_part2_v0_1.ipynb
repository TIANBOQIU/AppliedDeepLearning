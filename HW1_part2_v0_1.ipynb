{
  "nbformat": 4,
  "nbformat_minor": 0,
  "metadata": {
    "colab": {
      "name": "HW1-part2-v0.1.ipynb",
      "version": "0.3.2",
      "provenance": [],
      "collapsed_sections": [],
      "include_colab_link": true
    },
    "kernelspec": {
      "name": "python3",
      "display_name": "Python 3"
    },
    "accelerator": "GPU"
  },
  "cells": [
    {
      "cell_type": "markdown",
      "metadata": {
        "id": "view-in-github",
        "colab_type": "text"
      },
      "source": [
        "<a href=\"https://colab.research.google.com/github/TIANBOQIU/AppliedDeepLearning/blob/master/HW1_part2_v0_1.ipynb\" target=\"_parent\"><img src=\"https://colab.research.google.com/assets/colab-badge.svg\" alt=\"Open In Colab\"/></a>"
      ]
    },
    {
      "metadata": {
        "id": "_NssX2aIHWQ0",
        "colab_type": "code",
        "outputId": "2c705085-2c6d-44c2-8efa-524c3d56081c",
        "colab": {
          "base_uri": "https://localhost:8080/",
          "height": 531
        }
      },
      "cell_type": "code",
      "source": [
        "!pip install tf-nightly-2.0-preview"
      ],
      "execution_count": 0,
      "outputs": [
        {
          "output_type": "stream",
          "text": [
            "Collecting tf-nightly-2.0-preview\n",
            "\u001b[?25l  Downloading https://files.pythonhosted.org/packages/fa/06/6938d487a6e6b5c34921d6258a6861e81e755f4d0274062908096cd35991/tf_nightly_2.0_preview-2.0.0.dev20190205-cp36-cp36m-manylinux1_x86_64.whl (75.6MB)\n",
            "\u001b[K    100% |████████████████████████████████| 75.6MB 535kB/s \n",
            "\u001b[?25hRequirement already satisfied: astor>=0.6.0 in /usr/local/lib/python3.6/dist-packages (from tf-nightly-2.0-preview) (0.7.1)\n",
            "Requirement already satisfied: gast>=0.2.0 in /usr/local/lib/python3.6/dist-packages (from tf-nightly-2.0-preview) (0.2.2)\n",
            "Requirement already satisfied: keras-preprocessing>=1.0.5 in /usr/local/lib/python3.6/dist-packages (from tf-nightly-2.0-preview) (1.0.8)\n",
            "Requirement already satisfied: termcolor>=1.1.0 in /usr/local/lib/python3.6/dist-packages (from tf-nightly-2.0-preview) (1.1.0)\n",
            "Requirement already satisfied: keras-applications>=1.0.6 in /usr/local/lib/python3.6/dist-packages (from tf-nightly-2.0-preview) (1.0.7)\n",
            "Requirement already satisfied: protobuf>=3.6.1 in /usr/local/lib/python3.6/dist-packages (from tf-nightly-2.0-preview) (3.6.1)\n",
            "Requirement already satisfied: six>=1.10.0 in /usr/local/lib/python3.6/dist-packages (from tf-nightly-2.0-preview) (1.11.0)\n",
            "Collecting tensorflow-estimator-2.0-preview (from tf-nightly-2.0-preview)\n",
            "\u001b[?25l  Downloading https://files.pythonhosted.org/packages/35/c1/5a32c6093e96421cb0fe64d25a0e9c5e7bba9d87c7e431fb375b12437e73/tensorflow_estimator_2.0_preview-1.13.0.dev2019012800-py2.py3-none-any.whl (347kB)\n",
            "\u001b[K    100% |████████████████████████████████| 348kB 21.7MB/s \n",
            "\u001b[?25hCollecting google-pasta>=0.1.1 (from tf-nightly-2.0-preview)\n",
            "\u001b[?25l  Downloading https://files.pythonhosted.org/packages/86/6c/9eabce1c1cdaa657751a802f94d71ca29b8f82e10cac97c3fd5f8c82736c/google_pasta-0.1.1-py3-none-any.whl (51kB)\n",
            "\u001b[K    100% |████████████████████████████████| 61kB 25.0MB/s \n",
            "\u001b[?25hRequirement already satisfied: grpcio>=1.8.6 in /usr/local/lib/python3.6/dist-packages (from tf-nightly-2.0-preview) (1.15.0)\n",
            "Requirement already satisfied: absl-py>=0.1.6 in /usr/local/lib/python3.6/dist-packages (from tf-nightly-2.0-preview) (0.7.0)\n",
            "Requirement already satisfied: wheel>=0.26 in /usr/local/lib/python3.6/dist-packages (from tf-nightly-2.0-preview) (0.32.3)\n",
            "Requirement already satisfied: numpy<2.0,>=1.14.5 in /usr/local/lib/python3.6/dist-packages (from tf-nightly-2.0-preview) (1.14.6)\n",
            "Collecting tb-nightly<1.14.0a0,>=1.13.0a0 (from tf-nightly-2.0-preview)\n",
            "\u001b[?25l  Downloading https://files.pythonhosted.org/packages/c4/e8/2a0c4ce134539d5b437e6c3507f03c68bc1461caed1670886246c38e0461/tb_nightly-1.13.0a20190205-py3-none-any.whl (3.2MB)\n",
            "\u001b[K    100% |████████████████████████████████| 3.2MB 11.6MB/s \n",
            "\u001b[?25hRequirement already satisfied: h5py in /usr/local/lib/python3.6/dist-packages (from keras-applications>=1.0.6->tf-nightly-2.0-preview) (2.8.0)\n",
            "Requirement already satisfied: setuptools in /usr/local/lib/python3.6/dist-packages (from protobuf>=3.6.1->tf-nightly-2.0-preview) (40.7.3)\n",
            "Requirement already satisfied: werkzeug>=0.11.15 in /usr/local/lib/python3.6/dist-packages (from tb-nightly<1.14.0a0,>=1.13.0a0->tf-nightly-2.0-preview) (0.14.1)\n",
            "Requirement already satisfied: markdown>=2.6.8 in /usr/local/lib/python3.6/dist-packages (from tb-nightly<1.14.0a0,>=1.13.0a0->tf-nightly-2.0-preview) (3.0.1)\n",
            "Installing collected packages: tensorflow-estimator-2.0-preview, google-pasta, tb-nightly, tf-nightly-2.0-preview\n",
            "Successfully installed google-pasta-0.1.1 tb-nightly-1.13.0a20190205 tensorflow-estimator-2.0-preview-1.13.0.dev2019012800 tf-nightly-2.0-preview-2.0.0.dev20190205\n"
          ],
          "name": "stdout"
        }
      ]
    },
    {
      "metadata": {
        "id": "Mb6-wdScHtr3",
        "colab_type": "code",
        "outputId": "e82795b6-d491-4a0f-de36-310ddeab1260",
        "colab": {
          "base_uri": "https://localhost:8080/",
          "height": 34
        }
      },
      "cell_type": "code",
      "source": [
        "from __future__ import absolute_import, print_function, division\n",
        "import tensorflow as tf\n",
        "print(tf.__version__)"
      ],
      "execution_count": 0,
      "outputs": [
        {
          "output_type": "stream",
          "text": [
            "2.0.0-dev20190205\n"
          ],
          "name": "stdout"
        }
      ]
    },
    {
      "metadata": {
        "id": "82gfmEUdJpAa",
        "colab_type": "code",
        "colab": {}
      },
      "cell_type": "code",
      "source": [
        "# Data\n",
        "from tensorflow import keras\n",
        "fashion_mnist = keras.datasets.fashion_mnist\n",
        "(train_data, train_labels), (test_data, test_labels) = fashion_mnist.load_data()"
      ],
      "execution_count": 0,
      "outputs": []
    },
    {
      "metadata": {
        "id": "c74iS7VfLA1I",
        "colab_type": "code",
        "colab": {}
      },
      "cell_type": "code",
      "source": [
        "train_data = train_data/255.0\n",
        "test_data = test_data/255.0\n",
        "BATCH_SIZE = 512\n",
        "BUFFER_SIZE = len(train_data)\n",
        "\n",
        "val_data = train_data[:10000]\n",
        "val_labels = train_labels[:10000]\n",
        "train_data = train_data[10000:]\n",
        "train_labels = train_labels[10000:]\n",
        "\n",
        "#train = tf.data.Dataset.from_tensor_slices((train_data, train_labels)).shuffle(BUFFER_SIZE).batch(BATCH_SIZE)\n",
        "train = tf.data.Dataset.from_tensor_slices((train_data, train_labels)).batch(BATCH_SIZE)\n",
        "test = tf.data.Dataset.from_tensor_slices((test_data, test_labels)).batch(BATCH_SIZE)\n",
        "val = tf.data.Dataset.from_tensor_slices((val_data, val_labels)).batch(BATCH_SIZE)"
      ],
      "execution_count": 0,
      "outputs": []
    },
    {
      "metadata": {
        "id": "7659J3_7hOz-",
        "colab_type": "code",
        "outputId": "5b07ef2d-2b42-4a77-975b-9ab9f5ff23ae",
        "colab": {
          "base_uri": "https://localhost:8080/",
          "height": 869
        }
      },
      "cell_type": "code",
      "source": [
        "class LinearModel(keras.Model):\n",
        "  def __init__(self):\n",
        "    super(LinearModel, self).__init__()\n",
        "    self.flatten = keras.layers.Flatten(input_shape=(28,28))\n",
        "    self.d1 = keras.layers.Dense(10, activation=tf.nn.softmax)\n",
        "   \n",
        "  def call(self, x):\n",
        "    x = self.flatten(x)\n",
        "    return self.d1(x)\n",
        "\n",
        "model = LinearModel()\n",
        "\n",
        "loss_function = keras.losses.SparseCategoricalCrossentropy(from_logits=False)\n",
        "optimizer = keras.optimizers.Adam()\n",
        "\n",
        "acc = keras.metrics.SparseCategoricalAccuracy(name='train_accuracy')\n",
        "test_acc = keras.metrics.SparseCategoricalAccuracy(name='test_accuracy')\n",
        "val_acc = keras.metrics.SparseCategoricalAccuracy(name='validation_accuracy')\n",
        "\n",
        "history = {'acc':[],'val_acc':[]}\n",
        "\n",
        "\n",
        "def train_step(images, labels):\n",
        "  with tf.GradientTape() as tape:\n",
        "    predictions = model(images)\n",
        "    train_loss = loss_function(y_true=labels, y_pred=predictions)\n",
        "  \n",
        "  gradients = tape.gradient(train_loss, model.trainable_variables)\n",
        "  optimizer.apply_gradients(zip(gradients, model.trainable_variables))\n",
        "  \n",
        "  acc(labels,predictions)\n",
        "  return acc.result()\n",
        "\n",
        "  \n",
        "def test_step(images, labels):\n",
        "  global history\n",
        "  predictions = model(images)\n",
        "  test_loss = loss_function(y_true=labels, y_pred = predictions)\n",
        "  \n",
        "  test_acc(labels, predictions)\n",
        "  \n",
        "  \n",
        "def val_step(images, labels):\n",
        "  predictions = model(images)\n",
        "  val_loss = loss_function(y_true=labels, y_pred = predictions)\n",
        "  \n",
        "  val_acc(labels, predictions)\n",
        "  return val_acc.result()\n",
        "  \n",
        "EPOCHS = 50\n",
        "\n",
        "\n",
        "\n",
        "\n",
        "\n",
        "for epoch in range(EPOCHS):\n",
        "  for images, labels in train:\n",
        "    train_step(images, labels)\n",
        "    \n",
        "  for val_images, val_labels in val:\n",
        "    val_step(val_images, val_labels)\n",
        "    \n",
        "  template = \"Epoch {}, Training accuracy: {:.2f}, Validation accuracy: {:.2f}\"\n",
        "  history['acc'].append(acc.result())\n",
        "  history['val_acc'].append(val_acc.result())\n",
        "  print(template.format(epoch+1, acc.result()*100, val_acc.result()*100))"
      ],
      "execution_count": 0,
      "outputs": [
        {
          "output_type": "stream",
          "text": [
            "Epoch 1, Training accuracy: 65.01, Validation accuracy: 75.33\n",
            "Epoch 2, Training accuracy: 71.38, Validation accuracy: 77.44\n",
            "Epoch 3, Training accuracy: 74.36, Validation accuracy: 78.62\n",
            "Epoch 4, Training accuracy: 76.21, Validation accuracy: 79.40\n",
            "Epoch 5, Training accuracy: 77.49, Validation accuracy: 80.05\n",
            "Epoch 6, Training accuracy: 78.44, Validation accuracy: 80.59\n",
            "Epoch 7, Training accuracy: 79.18, Validation accuracy: 81.02\n",
            "Epoch 8, Training accuracy: 79.78, Validation accuracy: 81.38\n",
            "Epoch 9, Training accuracy: 80.28, Validation accuracy: 81.69\n",
            "Epoch 10, Training accuracy: 80.71, Validation accuracy: 81.96\n",
            "Epoch 11, Training accuracy: 81.07, Validation accuracy: 82.19\n",
            "Epoch 12, Training accuracy: 81.39, Validation accuracy: 82.40\n",
            "Epoch 13, Training accuracy: 81.68, Validation accuracy: 82.58\n",
            "Epoch 14, Training accuracy: 81.93, Validation accuracy: 82.74\n",
            "Epoch 15, Training accuracy: 82.16, Validation accuracy: 82.88\n",
            "Epoch 16, Training accuracy: 82.37, Validation accuracy: 83.01\n",
            "Epoch 17, Training accuracy: 82.56, Validation accuracy: 83.12\n",
            "Epoch 18, Training accuracy: 82.73, Validation accuracy: 83.23\n",
            "Epoch 19, Training accuracy: 82.89, Validation accuracy: 83.32\n",
            "Epoch 20, Training accuracy: 83.05, Validation accuracy: 83.41\n",
            "Epoch 21, Training accuracy: 83.18, Validation accuracy: 83.49\n",
            "Epoch 22, Training accuracy: 83.31, Validation accuracy: 83.56\n",
            "Epoch 23, Training accuracy: 83.43, Validation accuracy: 83.63\n",
            "Epoch 24, Training accuracy: 83.55, Validation accuracy: 83.69\n",
            "Epoch 25, Training accuracy: 83.65, Validation accuracy: 83.74\n",
            "Epoch 26, Training accuracy: 83.75, Validation accuracy: 83.79\n",
            "Epoch 27, Training accuracy: 83.84, Validation accuracy: 83.85\n",
            "Epoch 28, Training accuracy: 83.93, Validation accuracy: 83.90\n",
            "Epoch 29, Training accuracy: 84.01, Validation accuracy: 83.94\n",
            "Epoch 30, Training accuracy: 84.09, Validation accuracy: 83.98\n",
            "Epoch 31, Training accuracy: 84.17, Validation accuracy: 84.03\n",
            "Epoch 32, Training accuracy: 84.24, Validation accuracy: 84.07\n",
            "Epoch 33, Training accuracy: 84.31, Validation accuracy: 84.10\n",
            "Epoch 34, Training accuracy: 84.37, Validation accuracy: 84.14\n",
            "Epoch 35, Training accuracy: 84.44, Validation accuracy: 84.17\n",
            "Epoch 36, Training accuracy: 84.50, Validation accuracy: 84.21\n",
            "Epoch 37, Training accuracy: 84.56, Validation accuracy: 84.24\n",
            "Epoch 38, Training accuracy: 84.61, Validation accuracy: 84.27\n",
            "Epoch 39, Training accuracy: 84.67, Validation accuracy: 84.30\n",
            "Epoch 40, Training accuracy: 84.72, Validation accuracy: 84.32\n",
            "Epoch 41, Training accuracy: 84.77, Validation accuracy: 84.35\n",
            "Epoch 42, Training accuracy: 84.82, Validation accuracy: 84.38\n",
            "Epoch 43, Training accuracy: 84.87, Validation accuracy: 84.40\n",
            "Epoch 44, Training accuracy: 84.91, Validation accuracy: 84.42\n",
            "Epoch 45, Training accuracy: 84.96, Validation accuracy: 84.45\n",
            "Epoch 46, Training accuracy: 85.00, Validation accuracy: 84.47\n",
            "Epoch 47, Training accuracy: 85.04, Validation accuracy: 84.49\n",
            "Epoch 48, Training accuracy: 85.08, Validation accuracy: 84.51\n",
            "Epoch 49, Training accuracy: 85.12, Validation accuracy: 84.53\n",
            "Epoch 50, Training accuracy: 85.16, Validation accuracy: 84.55\n"
          ],
          "name": "stdout"
        }
      ]
    },
    {
      "metadata": {
        "id": "LjzT_VHrkERK",
        "colab_type": "code",
        "outputId": "360fc3dd-3328-4486-869b-3f898c6bc0e8",
        "colab": {
          "base_uri": "https://localhost:8080/",
          "height": 361
        }
      },
      "cell_type": "code",
      "source": [
        "import matplotlib.pyplot as plt\n",
        "def plot_acc(history):\n",
        "  history_dict = history\n",
        "  acc = history_dict['acc']\n",
        "  val_acc = history_dict['val_acc']\n",
        "  \n",
        "  epochs = range(1, len(acc)+1)\n",
        "  \n",
        "  plt.plot(epochs, acc, 'bo', label = 'Training accuracy')\n",
        "  plt.plot(epochs, val_acc, 'b', label = 'Validation accuracy')\n",
        "  plt.xlabel('Epochs')\n",
        "  plt.ylabel('Accuracy')\n",
        "  plt.legend()\n",
        "  plt.show()\n",
        "  \n",
        "plot_acc(history)\n",
        "#len(history['val_acc'])"
      ],
      "execution_count": 0,
      "outputs": [
        {
          "output_type": "display_data",
          "data": {
            "image/png": "[encoded data removed]",
            "text/plain": [
              "<Figure size 576x396 with 1 Axes>"
            ]
          },
          "metadata": {
            "tags": []
          }
        }
      ]
    }
  ]
}