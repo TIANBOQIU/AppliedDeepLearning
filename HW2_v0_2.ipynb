{
  "nbformat": 4,
  "nbformat_minor": 0,
  "metadata": {
    "colab": {
      "name": "HW2_v0.2.ipynb",
      "version": "0.3.2",
      "provenance": [],
      "collapsed_sections": [],
      "include_colab_link": true
    },
    "kernelspec": {
      "name": "python3",
      "display_name": "Python 3"
    },
    "accelerator": "GPU"
  },
  "cells": [
    {
      "cell_type": "markdown",
      "metadata": {
        "id": "view-in-github",
        "colab_type": "text"
      },
      "source": [
        "<a href=\"https://colab.research.google.com/github/TIANBOQIU/AppliedDeepLearning/blob/master/HW2_v0_2.ipynb\" target=\"_parent\"><img src=\"https://colab.research.google.com/assets/colab-badge.svg\" alt=\"Open In Colab\"/></a>"
      ]
    },
    {
      "metadata": {
        "id": "8JbbTYIiyeqy",
        "colab_type": "code",
        "colab": {}
      },
      "cell_type": "code",
      "source": [
        "!pip install -q tf-nightly-2.0-preview"
      ],
      "execution_count": 0,
      "outputs": []
    },
    {
      "metadata": {
        "id": "dzwPKq5Cy2g8",
        "colab_type": "code",
        "colab": {
          "base_uri": "https://localhost:8080/",
          "height": 69
        },
        "outputId": "241022ba-cc31-4472-b02e-2cb0c08e0d42"
      },
      "cell_type": "code",
      "source": [
        "from __future__ import absolute_import, division, print_function\n",
        "import tensorflow as tf\n",
        "from tensorflow import keras\n",
        "import matplotlib.pyplot as plt\n",
        "import os\n",
        "import numpy as np\n",
        "import zipfile\n",
        "\n",
        "from tensorflow.keras.layers import Conv2D, Dense, Flatten, MaxPooling2D\n",
        "from tensorflow.keras.models import Sequential\n",
        "from tensorflow.keras.preprocessing.image import ImageDataGenerator\n",
        "from tensorflow.keras.applications import VGG16\n",
        "\n",
        "print(tf.__version__)"
      ],
      "execution_count": 2,
      "outputs": [
        {
          "output_type": "stream",
          "text": [
            "Limited tf.compat.v2.summary API due to missing TensorBoard installation\n",
            "Limited tf.summary API due to missing TensorBoard installation\n",
            "2.0.0-dev20190214\n"
          ],
          "name": "stdout"
        }
      ]
    },
    {
      "metadata": {
        "id": "zulIlcZwznHB",
        "colab_type": "code",
        "colab": {
          "base_uri": "https://localhost:8080/",
          "height": 207
        },
        "outputId": "48e41734-0e3a-4b1e-9613-03b5f2eb3bdf"
      },
      "cell_type": "code",
      "source": [
        "!wget https://storage.googleapis.com/applied-dl/mini_flowers.zip \\\n",
        "  -O /tmp/mini_flowers.zip"
      ],
      "execution_count": 3,
      "outputs": [
        {
          "output_type": "stream",
          "text": [
            "--2019-02-14 22:44:43--  https://storage.googleapis.com/applied-dl/mini_flowers.zip\n",
            "Resolving storage.googleapis.com (storage.googleapis.com)... 74.125.206.128, 2a00:1450:400c:c04::80\n",
            "Connecting to storage.googleapis.com (storage.googleapis.com)|74.125.206.128|:443... connected.\n",
            "HTTP request sent, awaiting response... 200 OK\n",
            "Length: 40110537 (38M) [application/zip]\n",
            "Saving to: ‘/tmp/mini_flowers.zip’\n",
            "\n",
            "/tmp/mini_flowers.z 100%[===================>]  38.25M  24.2MB/s    in 1.6s    \n",
            "\n",
            "2019-02-14 22:44:45 (24.2 MB/s) - ‘/tmp/mini_flowers.zip’ saved [40110537/40110537]\n",
            "\n"
          ],
          "name": "stdout"
        }
      ]
    },
    {
      "metadata": {
        "id": "Vy-1VhGlzyi0",
        "colab_type": "code",
        "colab": {
          "base_uri": "https://localhost:8080/",
          "height": 51
        },
        "outputId": "2240dc02-7c30-47bb-a7de-dfa6a8dadb14"
      },
      "cell_type": "code",
      "source": [
        "# Data\n",
        "local_zip = '/tmp/mini_flowers.zip'\n",
        "zip_ref = zipfile.ZipFile(local_zip, 'r')\n",
        "zip_ref.extractall('/tmp/mini_flowers')\n",
        "zip_ref.close()\n",
        "base_dir = '/tmp/mini_flowers'\n",
        "train_dir = os.path.join(base_dir, 'train')\n",
        "val_dir = os.path.join(base_dir, 'val')\n",
        "n_classes = len(os.listdir(train_dir))\n",
        "train_paths = [os.path.join(train_dir, i) for i in os.listdir(train_dir)]\n",
        "val_paths = [os.path.join(val_dir, i) for i in os.listdir(val_dir)]\n",
        "n_train = sum([len(os.listdir(i)) for i in train_paths])\n",
        "n_val = sum([len(os.listdir(i)) for i in val_paths])\n",
        "data_gen = ImageDataGenerator(rescale=1./255)\n",
        "BATCH_SIZE=32\n",
        "TARGET_SHAPE=150\n",
        "train_data = data_gen.flow_from_directory(batch_size=BATCH_SIZE,\n",
        "                                         directory=train_dir,\n",
        "                                         shuffle=True,\n",
        "                                         target_size=(TARGET_SHAPE,TARGET_SHAPE),\n",
        "                                         class_mode='categorical')\n",
        "val_data = data_gen.flow_from_directory(batch_size=BATCH_SIZE,\n",
        "                                         directory=val_dir,\n",
        "                                         shuffle=True,\n",
        "                                         target_size=(TARGET_SHAPE,TARGET_SHAPE),\n",
        "                                         class_mode='categorical')\n",
        "\n"
      ],
      "execution_count": 4,
      "outputs": [
        {
          "output_type": "stream",
          "text": [
            "Found 1000 images belonging to 5 classes.\n",
            "Found 500 images belonging to 5 classes.\n"
          ],
          "name": "stdout"
        }
      ]
    },
    {
      "metadata": {
        "id": "8C386-iM5iDQ",
        "colab_type": "code",
        "colab": {
          "base_uri": "https://localhost:8080/",
          "height": 34
        },
        "outputId": "ed21554d-8217-4bd5-8389-8e7d92e898ab"
      },
      "cell_type": "code",
      "source": [
        "batch_train_images, batch_train_labels = next(train_data)\n",
        "batch_train_images.shape\n",
        "batch_train_labels[4]\n",
        "train_data.batch_size"
      ],
      "execution_count": 7,
      "outputs": [
        {
          "output_type": "execute_result",
          "data": {
            "text/plain": [
              "32"
            ]
          },
          "metadata": {
            "tags": []
          },
          "execution_count": 7
        }
      ]
    },
    {
      "metadata": {
        "id": "ZvsBX0wI60Fo",
        "colab_type": "code",
        "colab": {}
      },
      "cell_type": "code",
      "source": [
        "# feature extraction\n",
        "conv_base = VGG16(weights='imagenet', include_top=False, input_shape=(150,150,3))\n",
        "\n",
        "def extract_features(data_gen, sample_count):\n",
        "  features = np.zeros(shape=(sample_count, 4, 4, 512))\n",
        "  labels = np.zeros(shape=(sample_count,5))\n",
        "  i = 0\n",
        "  BATCH_SIZE = data_gen.batch_size\n",
        "  for images_batch, labels_batch in data_gen:\n",
        "    features[i*BATCH_SIZE: (i+1)*BATCH_SIZE] = conv_base.predict(images_batch)\n",
        "    labels[i*BATCH_SIZE: (i+1)*BATCH_SIZE] = labels_batch\n",
        "    i += 1\n",
        "    if i * BATCH_SIZE >= sample_count:\n",
        "      break\n",
        "    return features, labels\n",
        "train_features, train_labels = extract_features(train_data, n_train)\n",
        "val_features, val_labels = extract_features(val_data, n_val)"
      ],
      "execution_count": 0,
      "outputs": []
    },
    {
      "metadata": {
        "id": "15f9wJjP9i_D",
        "colab_type": "code",
        "colab": {
          "base_uri": "https://localhost:8080/",
          "height": 51
        },
        "outputId": "9ce56ea1-f781-4adb-e177-d6b9333fbe45"
      },
      "cell_type": "code",
      "source": [
        "print(train_features.shape)\n",
        "print(train_labels.shape)"
      ],
      "execution_count": 17,
      "outputs": [
        {
          "output_type": "stream",
          "text": [
            "(1000, 4, 4, 512)\n",
            "(1000, 5)\n"
          ],
          "name": "stdout"
        }
      ]
    },
    {
      "metadata": {
        "id": "iN4jsy-wOAg2",
        "colab_type": "code",
        "colab": {
          "base_uri": "https://localhost:8080/",
          "height": 1767
        },
        "outputId": "405a30f4-539b-424d-d21f-0c7f5500dfe4"
      },
      "cell_type": "code",
      "source": [
        "# Model\n",
        "train_features = np.reshape(train_features, (n_train, 4*4*512))\n",
        "val_features = np.reshape(val_features, (n_val, 4*4*512))\n",
        "model = Sequential()\n",
        "model.add(Dense(256, activation='relu', input_dim=4*4*512))\n",
        "model.add(keras.layers.Dropout(0.5))\n",
        "model.add(Dense(5, activation = 'sigmoid'))\n",
        "\n",
        "model.compile(optimizer='adam', loss = 'categorical_crossentropy', metrics = ['acc'])\n",
        "history = model.fit(train_features, train_labels, epochs=50,batch_size=20, validation_data=(val_features, val_labels))"
      ],
      "execution_count": 19,
      "outputs": [
        {
          "output_type": "stream",
          "text": [
            "Train on 1000 samples, validate on 500 samples\n",
            "Epoch 1/50\n",
            "1000/1000==============================] - 1s 1ms/sample - loss: 0.0732 - acc: 0.5380 - val_loss: 0.1024 - val_acc: 0.0160\n",
            "Epoch 2/50\n",
            "1000/1000==============================] - 1s 850us/sample - loss: 0.0700 - acc: 0.4030 - val_loss: 0.1404 - val_acc: 0.0140\n",
            "Epoch 3/50\n",
            "1000/1000==============================] - 1s 856us/sample - loss: 0.0464 - acc: 0.3530 - val_loss: 0.1299 - val_acc: 0.0140\n",
            "Epoch 4/50\n",
            "1000/1000==============================] - 1s 841us/sample - loss: 0.0618 - acc: 0.4620 - val_loss: 0.2009 - val_acc: 0.9500\n",
            "Epoch 5/50\n",
            "1000/1000==============================] - 1s 831us/sample - loss: 0.0600 - acc: 0.4930 - val_loss: 0.1025 - val_acc: 0.9500\n",
            "Epoch 6/50\n",
            "1000/1000==============================] - 1s 831us/sample - loss: 0.0443 - acc: 0.5690 - val_loss: 0.1053 - val_acc: 0.9500\n",
            "Epoch 7/50\n",
            "1000/1000==============================] - 1s 829us/sample - loss: 0.0563 - acc: 0.4160 - val_loss: 0.1717 - val_acc: 0.0140\n",
            "Epoch 8/50\n",
            "1000/1000==============================] - 1s 863us/sample - loss: 0.0515 - acc: 0.2140 - val_loss: 0.1393 - val_acc: 0.0140\n",
            "Epoch 9/50\n",
            "1000/1000==============================] - 1s 860us/sample - loss: 0.0584 - acc: 0.1680 - val_loss: 0.1056 - val_acc: 0.0140\n",
            "Epoch 10/50\n",
            "1000/1000==============================] - 1s 858us/sample - loss: 0.0448 - acc: 0.1750 - val_loss: 0.1209 - val_acc: 0.0140\n",
            "Epoch 11/50\n",
            "1000/1000==============================] - 1s 860us/sample - loss: 0.0536 - acc: 0.1540 - val_loss: 0.1674 - val_acc: 0.0160\n",
            "Epoch 12/50\n",
            "1000/1000==============================] - 1s 869us/sample - loss: 0.0522 - acc: 0.0400 - val_loss: 0.1276 - val_acc: 0.0200\n",
            "Epoch 13/50\n",
            "1000/1000==============================] - 1s 825us/sample - loss: 0.0439 - acc: 0.3630 - val_loss: 0.1936 - val_acc: 0.9500\n",
            "Epoch 14/50\n",
            "1000/1000==============================] - 1s 852us/sample - loss: 0.0433 - acc: 0.5510 - val_loss: 0.1812 - val_acc: 0.9500\n",
            "Epoch 15/50\n",
            "1000/1000==============================] - 1s 850us/sample - loss: 0.0406 - acc: 0.6030 - val_loss: 0.2219 - val_acc: 0.9500\n",
            "Epoch 16/50\n",
            "1000/1000==============================] - 1s 837us/sample - loss: 0.0396 - acc: 0.7050 - val_loss: 0.2684 - val_acc: 0.9500\n",
            "Epoch 17/50\n",
            "1000/1000==============================] - 1s 713us/sample - loss: 0.0402 - acc: 0.7610 - val_loss: 0.2706 - val_acc: 0.0140\n",
            "Epoch 18/50\n",
            "1000/1000==============================] - 1s 733us/sample - loss: 0.0412 - acc: 0.3270 - val_loss: 0.2446 - val_acc: 0.0140\n",
            "Epoch 19/50\n",
            "1000/1000==============================] - 1s 740us/sample - loss: 0.0381 - acc: 0.3490 - val_loss: 0.2600 - val_acc: 0.0140\n",
            "Epoch 20/50\n",
            "1000/1000==============================] - 1s 714us/sample - loss: 0.0424 - acc: 0.4310 - val_loss: 0.2262 - val_acc: 0.9500\n",
            "Epoch 21/50\n",
            "1000/1000==============================] - 1s 723us/sample - loss: 0.0397 - acc: 0.4680 - val_loss: 0.2579 - val_acc: 0.0140\n",
            "Epoch 22/50\n",
            "1000/1000==============================] - 1s 729us/sample - loss: 0.0453 - acc: 0.4590 - val_loss: 0.2490 - val_acc: 0.9500\n",
            "Epoch 23/50\n",
            "1000/1000==============================] - 1s 718us/sample - loss: 0.0379 - acc: 0.5440 - val_loss: 0.2724 - val_acc: 0.9500\n",
            "Epoch 24/50\n",
            "1000/1000==============================] - 1s 715us/sample - loss: 0.0348 - acc: 0.6450 - val_loss: 0.2817 - val_acc: 0.9500\n",
            "Epoch 25/50\n",
            "1000/1000==============================] - 1s 741us/sample - loss: 0.0311 - acc: 0.6690 - val_loss: 0.2836 - val_acc: 0.9500\n",
            "Epoch 26/50\n",
            "1000/1000==============================] - 1s 711us/sample - loss: 0.0657 - acc: 0.5400 - val_loss: 0.1848 - val_acc: 0.0140\n",
            "Epoch 27/50\n",
            "1000/1000==============================] - 1s 719us/sample - loss: 0.0384 - acc: 0.1740 - val_loss: 0.2667 - val_acc: 0.0140\n",
            "Epoch 28/50\n",
            "1000/1000==============================] - 1s 740us/sample - loss: 0.0360 - acc: 0.1880 - val_loss: 0.2471 - val_acc: 0.0140\n",
            "Epoch 29/50\n",
            "1000/1000==============================] - 1s 706us/sample - loss: 0.0367 - acc: 0.3780 - val_loss: 0.2554 - val_acc: 0.0140\n",
            "Epoch 30/50\n",
            "1000/1000==============================] - 1s 806us/sample - loss: 0.0517 - acc: 0.1300 - val_loss: 0.3019 - val_acc: 0.0140\n",
            "Epoch 31/50\n",
            "1000/1000==============================] - 1s 867us/sample - loss: 0.0372 - acc: 0.0130 - val_loss: 0.2225 - val_acc: 0.0140\n",
            "Epoch 32/50\n",
            "1000/1000==============================] - 1s 850us/sample - loss: 0.0381 - acc: 0.0110 - val_loss: 0.2516 - val_acc: 0.0140\n",
            "Epoch 33/50\n",
            "1000/1000==============================] - 1s 894us/sample - loss: 0.0349 - acc: 0.0120 - val_loss: 0.2739 - val_acc: 0.0140\n",
            "Epoch 34/50\n",
            "1000/1000==============================] - 1s 890us/sample - loss: 0.0363 - acc: 0.0110 - val_loss: 0.2759 - val_acc: 0.0140\n",
            "Epoch 35/50\n",
            "1000/1000==============================] - 1s 841us/sample - loss: 0.0435 - acc: 0.0120 - val_loss: 0.2457 - val_acc: 0.0160\n",
            "Epoch 36/50\n",
            "1000/1000==============================] - 1s 871us/sample - loss: 0.0355 - acc: 0.0110 - val_loss: 0.2464 - val_acc: 0.0180\n",
            "Epoch 37/50\n",
            "1000/1000==============================] - 1s 817us/sample - loss: 0.0324 - acc: 0.0110 - val_loss: 0.2763 - val_acc: 0.0180\n",
            "Epoch 38/50\n",
            "1000/1000==============================] - 1s 855us/sample - loss: 0.0337 - acc: 0.0380 - val_loss: 0.2795 - val_acc: 0.0140\n",
            "Epoch 39/50\n",
            "1000/1000==============================] - 1s 813us/sample - loss: 0.0362 - acc: 0.1090 - val_loss: 0.2788 - val_acc: 0.0140\n",
            "Epoch 40/50\n",
            "1000/1000==============================] - 1s 854us/sample - loss: 0.0357 - acc: 0.5260 - val_loss: 0.1797 - val_acc: 0.9500\n",
            "Epoch 41/50\n",
            "1000/1000==============================] - 1s 854us/sample - loss: 0.0554 - acc: 0.5140 - val_loss: 0.1844 - val_acc: 0.9500\n",
            "Epoch 42/50\n",
            "1000/1000==============================] - 1s 880us/sample - loss: 0.0345 - acc: 0.4900 - val_loss: 0.2734 - val_acc: 0.0140\n",
            "Epoch 43/50\n",
            "1000/1000==============================] - 1s 820us/sample - loss: 0.0308 - acc: 0.4630 - val_loss: 0.2776 - val_acc: 0.0140\n",
            "Epoch 44/50\n",
            "1000/1000==============================] - 1s 833us/sample - loss: 0.0407 - acc: 0.4500 - val_loss: 0.2752 - val_acc: 0.0140\n",
            "Epoch 45/50\n",
            "1000/1000==============================] - 1s 822us/sample - loss: 0.0303 - acc: 0.3820 - val_loss: 0.3164 - val_acc: 0.0140\n",
            "Epoch 46/50\n",
            "1000/1000==============================] - 1s 850us/sample - loss: 0.0308 - acc: 0.1610 - val_loss: 0.2850 - val_acc: 0.0140\n",
            "Epoch 47/50\n",
            "1000/1000==============================] - 1s 863us/sample - loss: 0.0289 - acc: 0.3030 - val_loss: 0.3181 - val_acc: 0.0140\n",
            "Epoch 48/50\n",
            "1000/1000==============================] - 1s 841us/sample - loss: 0.0252 - acc: 0.2070 - val_loss: 0.3518 - val_acc: 0.0220\n",
            "Epoch 49/50\n",
            "1000/1000==============================] - 1s 849us/sample - loss: 0.0319 - acc: 0.0910 - val_loss: 0.3707 - val_acc: 0.0200\n",
            "Epoch 50/50\n",
            "1000/1000==============================] - 1s 888us/sample - loss: 0.0304 - acc: 0.7510 - val_loss: 0.2815 - val_acc: 0.9500\n"
          ],
          "name": "stdout"
        }
      ]
    },
    {
      "metadata": {
        "id": "NvY33RWQPZMs",
        "colab_type": "code",
        "colab": {
          "base_uri": "https://localhost:8080/",
          "height": 707
        },
        "outputId": "93d08389-ee5f-47ed-9a1e-d70b2dc8444f"
      },
      "cell_type": "code",
      "source": [
        "# Plotting the results\n",
        "acc = history.history['acc']\n",
        "val_acc = history.history['val_acc']\n",
        "loss = history.history['loss']\n",
        "val_loss = history.history['val_loss']\n",
        "epochs = range(1, len(acc)+1)\n",
        "plt.plot(epochs, acc, 'bo', label='Training acc')\n",
        "plt.plot(epochs, val_acc, 'b', label='Validation acc')\n",
        "plt.title('Training and Validation accuracy')\n",
        "plt.legend()\n",
        "plt.figure()\n",
        "plt.plot(epochs, loss, 'bo', label='Training loss')\n",
        "plt.plot(epochs, val_loss, 'b', label='Validation loss')\n",
        "plt.title('Training and Validation loss')\n",
        "plt.legend()\n",
        "plt.show()\n"
      ],
      "execution_count": 22,
      "outputs": [
        {
          "output_type": "display_data",
          "data": {
            "image/png": "[encoded data removed]",
            "text/plain": [
              "<Figure size 576x396 with 1 Axes>"
            ]
          },
          "metadata": {
            "tags": []
          }
        },
        {
          "output_type": "display_data",
          "data": {
            "image/png": "[encoded data removed]",
            "text/plain": [
              "<Figure size 576x396 with 1 Axes>"
            ]
          },
          "metadata": {
            "tags": []
          }
        }
      ]
    },
    {
      "metadata": {
        "id": "xik-dnHTQnrS",
        "colab_type": "text"
      },
      "cell_type": "markdown",
      "source": [
        "**We can see that the model is almost overfitting immediately.**"
      ]
    },
    {
      "metadata": {
        "id": "7kxCUL3SQ0dB",
        "colab_type": "code",
        "colab": {}
      },
      "cell_type": "code",
      "source": [
        ""
      ],
      "execution_count": 0,
      "outputs": []
    }
  ]
}