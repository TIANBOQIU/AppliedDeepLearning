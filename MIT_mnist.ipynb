{
  "nbformat": 4,
  "nbformat_minor": 0,
  "metadata": {
    "colab": {
      "name": "MIT_mnist.ipynb",
      "version": "0.3.2",
      "provenance": [],
      "collapsed_sections": [],
      "include_colab_link": true
    },
    "kernelspec": {
      "name": "python2",
      "display_name": "Python 2"
    },
    "accelerator": "GPU"
  },
  "cells": [
    {
      "cell_type": "markdown",
      "metadata": {
        "id": "view-in-github",
        "colab_type": "text"
      },
      "source": [
        "<a href=\"https://colab.research.google.com/github/TIANBOQIU/AppliedDeepLearning/blob/master/MIT_mnist.ipynb\" target=\"_parent\"><img src=\"https://colab.research.google.com/assets/colab-badge.svg\" alt=\"Open In Colab\"/></a>"
      ]
    },
    {
      "metadata": {
        "id": "7X8dBuJDTnCb",
        "colab_type": "code",
        "colab": {
          "base_uri": "https://localhost:8080/",
          "height": 69
        },
        "outputId": "b5540356-981e-4c05-f3a8-6130794634b4"
      },
      "cell_type": "code",
      "source": [
        "import tensorflow as tf\n",
        "tf.enable_eager_execution()\n",
        "import matplotlib.pyplot as plt\n",
        "import numpy as np\n",
        "import random\n",
        "from progressbar import progressbar\n",
        "\n",
        "# Download the class repository\n",
        "! git clone https://github.com/aamini/introtodeeplearning_labs.git  > /dev/null 2>&1\n",
        "% cd introtodeeplearning_labs \n",
        "! git pull\n",
        "% cd .. \n",
        "\n",
        "# Import the necessary class-specific utility files for this lab\n",
        "import introtodeeplearning_labs as util"
      ],
      "execution_count": 1,
      "outputs": [
        {
          "output_type": "stream",
          "text": [
            "/content/introtodeeplearning_labs\n",
            "Already up to date.\n",
            "/content\n"
          ],
          "name": "stdout"
        }
      ]
    },
    {
      "metadata": {
        "id": "VY7oRlEETu06",
        "colab_type": "code",
        "colab": {
          "base_uri": "https://localhost:8080/",
          "height": 89
        },
        "outputId": "b25d9c04-d1ab-48ba-f0d7-e24833738722"
      },
      "cell_type": "code",
      "source": [
        "# Data : MNIST\n",
        "mnist = tf.keras.datasets.mnist\n",
        "(train_images, train_labels), (test_images, test_labels) = mnist.load_data()\n",
        "train_images = np.expand_dims(train_images, axis=-1)/255.\n",
        "train_labels = np.int64(train_labels)\n",
        "test_images = np.expand_dims(test_images, axis=-1)/255.\n",
        "test_labels = np.int64(test_labels)"
      ],
      "execution_count": 2,
      "outputs": [
        {
          "output_type": "stream",
          "text": [
            "Downloading data from https://storage.googleapis.com/tensorflow/tf-keras-datasets/mnist.npz\n",
            "11493376/11490434 [==============================] - 0s 0us/step\n",
            "11501568/11490434 [==============================] - 0s 0us/step\n"
          ],
          "name": "stdout"
        }
      ]
    },
    {
      "metadata": {
        "id": "vSqiQeDSUU_B",
        "colab_type": "code",
        "colab": {
          "base_uri": "https://localhost:8080/",
          "height": 86
        },
        "outputId": "60faa17c-695d-4c88-b598-70c37f89fabd"
      },
      "cell_type": "code",
      "source": [
        "print(train_images.shape)\n",
        "print(test_images.shape)\n",
        "print(train_labels.shape)\n",
        "print(test_labels.shape)"
      ],
      "execution_count": 7,
      "outputs": [
        {
          "output_type": "stream",
          "text": [
            "(60000, 28, 28, 1)\n",
            "(10000, 28, 28, 1)\n",
            "(60000,)\n",
            "(10000,)\n"
          ],
          "name": "stdout"
        }
      ]
    },
    {
      "metadata": {
        "id": "JRYLMmpcUreE",
        "colab_type": "code",
        "colab": {
          "base_uri": "https://localhost:8080/",
          "height": 609
        },
        "outputId": "6d6a0c67-9c05-4d51-9f42-8e1424866336"
      },
      "cell_type": "code",
      "source": [
        "# Visualize the data set \n",
        "# 28 * 28 gray images\n",
        "plt.figure(figsize=(10,10))\n",
        "random_inds = np.random.choice(60000,36)\n",
        "for i in range(36):\n",
        "  plt.subplot(6,6,i+1)\n",
        "  plt.xticks([])\n",
        "  plt.yticks([])\n",
        "  plt.grid(False)\n",
        "  image_ind = random_inds[i]\n",
        "  plt.imshow(np.squeeze(train_images[image_ind]), cmap=plt.cm.binary)\n",
        "  plt.xlabel(train_labels[image_ind])"
      ],
      "execution_count": 8,
      "outputs": [
        {
          "output_type": "display_data",
          "data": {
            "image/png": "[encoded data removed]",
            "text/plain": [
              "<Figure size 720x720 with 36 Axes>"
            ]
          },
          "metadata": {
            "tags": []
          }
        }
      ]
    },
    {
      "metadata": {
        "id": "kcM9b4TUVxrK",
        "colab_type": "code",
        "colab": {}
      },
      "cell_type": "code",
      "source": [
        "# Fully connected neural network architecture\n",
        "def build_fc_model():\n",
        "  fc_model = tf.keras.Sequential([\n",
        "      tf.keras.layers.Flatten(),\n",
        "      tf.keras.layers.Dense(128, activation=tf.nn.relu),\n",
        "      tf.keras.layers.Dense(10, activation=tf.nn.softmax)\n",
        "  ])\n",
        "  return fc_model\n",
        "\n",
        "model = build_fc_model()\n",
        "\n",
        "# define loss, optimizer, and metrics\n",
        "# categorical classification model\n",
        "model.compile(optimizer=tf.train.GradientDescentOptimizer(learning_rate=1e-1),\n",
        "              loss='sparse_categorical_crossentropy',\n",
        "              metrics=['accuracy'])"
      ],
      "execution_count": 0,
      "outputs": []
    },
    {
      "metadata": {
        "id": "zvHkaMM0bNIJ",
        "colab_type": "code",
        "colab": {
          "base_uri": "https://localhost:8080/",
          "height": 259
        },
        "outputId": "492a2ebc-009f-4335-f78b-f1944d9ee33b"
      },
      "cell_type": "code",
      "source": [
        "print(model.summary())"
      ],
      "execution_count": 18,
      "outputs": [
        {
          "output_type": "stream",
          "text": [
            "_________________________________________________________________\n",
            "Layer (type)                 Output Shape              Param #   \n",
            "=================================================================\n",
            "flatten (Flatten)            multiple                  0         \n",
            "_________________________________________________________________\n",
            "dense (Dense)                multiple                  100480    \n",
            "_________________________________________________________________\n",
            "dense_1 (Dense)              multiple                  1290      \n",
            "=================================================================\n",
            "Total params: 101,770\n",
            "Trainable params: 101,770\n",
            "Non-trainable params: 0\n",
            "_________________________________________________________________\n",
            "None\n"
          ],
          "name": "stdout"
        }
      ]
    },
    {
      "metadata": {
        "id": "owhhO-AHXzIr",
        "colab_type": "code",
        "colab": {}
      },
      "cell_type": "code",
      "source": [
        "BATCH_SIZE = 64\n",
        "EPOCHS = 5"
      ],
      "execution_count": 0,
      "outputs": []
    },
    {
      "metadata": {
        "id": "fM1MOSVRX-p_",
        "colab_type": "code",
        "colab": {
          "base_uri": "https://localhost:8080/",
          "height": 279
        },
        "outputId": "45bb6335-6a93-4446-8600-543c649a5da6"
      },
      "cell_type": "code",
      "source": [
        "model.fit(train_images, train_labels, batch_size=BATCH_SIZE, epochs=EPOCHS)"
      ],
      "execution_count": 12,
      "outputs": [
        {
          "output_type": "stream",
          "text": [
            "WARNING:tensorflow:From /usr/local/lib/python2.7/dist-packages/tensorflow/python/ops/resource_variable_ops.py:642: colocate_with (from tensorflow.python.framework.ops) is deprecated and will be removed in a future version.\n",
            "Instructions for updating:\n",
            "Colocations handled automatically by placer.\n",
            "Epoch 1/5\n",
            "60000/60000 [==============================] - 4s 68us/sample - loss: 0.3674 - acc: 0.8968\n",
            "Epoch 2/5\n",
            "60000/60000 [==============================] - 3s 52us/sample - loss: 0.1965 - acc: 0.9443\n",
            "Epoch 3/5\n",
            "60000/60000 [==============================] - 3s 52us/sample - loss: 0.1482 - acc: 0.9579\n",
            "Epoch 4/5\n",
            "60000/60000 [==============================] - 3s 53us/sample - loss: 0.1213 - acc: 0.9658\n",
            "Epoch 5/5\n",
            "60000/60000 [==============================] - 3s 52us/sample - loss: 0.1023 - acc: 0.9709\n"
          ],
          "name": "stdout"
        },
        {
          "output_type": "execute_result",
          "data": {
            "text/plain": [
              "<tensorflow.python.keras.callbacks.History at 0x7f5720037690>"
            ]
          },
          "metadata": {
            "tags": []
          },
          "execution_count": 12
        }
      ]
    },
    {
      "metadata": {
        "id": "RU5l6DtYYRt-",
        "colab_type": "code",
        "colab": {
          "base_uri": "https://localhost:8080/",
          "height": 71
        },
        "outputId": "c17303df-968e-4b95-a8a9-6bc2088b990b"
      },
      "cell_type": "code",
      "source": [
        "# evaluate accuracy on the test dataset\n",
        "test_loss, test_acc = model.evaluate(test_images, test_labels)\n",
        "print('Test accuracy:', test_acc)"
      ],
      "execution_count": 13,
      "outputs": [
        {
          "output_type": "stream",
          "text": [
            "10000/10000 [==============================] - 1s 85us/sample - loss: 0.1039 - acc: 0.9695\n",
            "('Test accuracy:', 0.9695)\n"
          ],
          "name": "stdout"
        }
      ]
    },
    {
      "metadata": {
        "id": "xIMp-9--Yp0E",
        "colab_type": "code",
        "colab": {
          "base_uri": "https://localhost:8080/",
          "height": 398
        },
        "outputId": "534753ee-73a2-4736-91ee-37da3f6be8e7"
      },
      "cell_type": "code",
      "source": [
        "# Define the CNN model\n",
        "def build_cnn_model():\n",
        "  cnn_model = tf.keras.Sequential([\n",
        "      tf.keras.layers.Conv2D(filters=24, kernel_size=(3,3),input_shape=(28,28,1), activation=tf.nn.relu),\n",
        "      tf.keras.layers.MaxPool2D(pool_size=(2,2)),\n",
        "      tf.keras.layers.Conv2D(filters=36,kernel_size=(3,3),activation=tf.nn.relu),\n",
        "      tf.keras.layers.MaxPool2D(pool_size=(2,2)),\n",
        "      \n",
        "      tf.keras.layers.Flatten(),\n",
        "      tf.keras.layers.Dense(128,activation=tf.nn.relu),\n",
        "      tf.keras.layers.Dense(10, activation=tf.nn.softmax)\n",
        "  ])\n",
        "  return cnn_model\n",
        "\n",
        "cnn_model = build_cnn_model()\n",
        "print(cnn_model.summary())"
      ],
      "execution_count": 14,
      "outputs": [
        {
          "output_type": "stream",
          "text": [
            "_________________________________________________________________\n",
            "Layer (type)                 Output Shape              Param #   \n",
            "=================================================================\n",
            "conv2d (Conv2D)              (None, 26, 26, 24)        240       \n",
            "_________________________________________________________________\n",
            "max_pooling2d (MaxPooling2D) (None, 13, 13, 24)        0         \n",
            "_________________________________________________________________\n",
            "conv2d_1 (Conv2D)            (None, 11, 11, 36)        7812      \n",
            "_________________________________________________________________\n",
            "max_pooling2d_1 (MaxPooling2 (None, 5, 5, 36)          0         \n",
            "_________________________________________________________________\n",
            "flatten_1 (Flatten)          (None, 900)               0         \n",
            "_________________________________________________________________\n",
            "dense_2 (Dense)              (None, 128)               115328    \n",
            "_________________________________________________________________\n",
            "dense_3 (Dense)              (None, 10)                1290      \n",
            "=================================================================\n",
            "Total params: 124,670\n",
            "Trainable params: 124,670\n",
            "Non-trainable params: 0\n",
            "_________________________________________________________________\n",
            "None\n"
          ],
          "name": "stdout"
        }
      ]
    },
    {
      "metadata": {
        "id": "kzPvObDradV0",
        "colab_type": "code",
        "colab": {}
      },
      "cell_type": "code",
      "source": [
        "cnn_model.compile(optimizer=tf.train.GradientDescentOptimizer(learning_rate=1e-1),\n",
        "                  loss='sparse_categorical_crossentropy',\n",
        "                  metrics=['accuracy'])\n"
      ],
      "execution_count": 0,
      "outputs": []
    },
    {
      "metadata": {
        "id": "a89xIu-ta5Kt",
        "colab_type": "code",
        "colab": {
          "base_uri": "https://localhost:8080/",
          "height": 227
        },
        "outputId": "0926620f-08da-495f-8da5-1a43fa837635"
      },
      "cell_type": "code",
      "source": [
        "cnn_model.fit(train_images, train_labels, batch_size=BATCH_SIZE,epochs=EPOCHS)"
      ],
      "execution_count": 17,
      "outputs": [
        {
          "output_type": "stream",
          "text": [
            "Epoch 1/5\n",
            "60000/60000 [==============================] - 8s 130us/sample - loss: 0.2472 - acc: 0.9226\n",
            "Epoch 2/5\n",
            "60000/60000 [==============================] - 6s 93us/sample - loss: 0.0695 - acc: 0.9789\n",
            "Epoch 3/5\n",
            "60000/60000 [==============================] - 6s 93us/sample - loss: 0.0493 - acc: 0.9846\n",
            "Epoch 4/5\n",
            "60000/60000 [==============================] - 6s 94us/sample - loss: 0.0378 - acc: 0.9883\n",
            "Epoch 5/5\n",
            "60000/60000 [==============================] - 6s 93us/sample - loss: 0.0312 - acc: 0.9904\n"
          ],
          "name": "stdout"
        },
        {
          "output_type": "execute_result",
          "data": {
            "text/plain": [
              "<tensorflow.python.keras.callbacks.History at 0x7f571727ad50>"
            ]
          },
          "metadata": {
            "tags": []
          },
          "execution_count": 17
        }
      ]
    },
    {
      "metadata": {
        "id": "Xz8WkN8VbLA-",
        "colab_type": "code",
        "colab": {
          "base_uri": "https://localhost:8080/",
          "height": 71
        },
        "outputId": "3627be30-f69c-492b-c06a-4218a3285322"
      },
      "cell_type": "code",
      "source": [
        "test_loss, test_acc = cnn_model.evaluate(test_images, test_labels)\n",
        "print('test accuracy', test_acc)"
      ],
      "execution_count": 19,
      "outputs": [
        {
          "output_type": "stream",
          "text": [
            "10000/10000 [==============================] - 1s 108us/sample - loss: 0.0359 - acc: 0.9886\n",
            "('test accuracy', 0.9886)\n"
          ],
          "name": "stdout"
        }
      ]
    },
    {
      "metadata": {
        "id": "gdoOKos1bsWZ",
        "colab_type": "code",
        "colab": {}
      },
      "cell_type": "code",
      "source": [
        "# make predictions\n",
        "predictions = cnn_model.predict(test_images)"
      ],
      "execution_count": 0,
      "outputs": []
    },
    {
      "metadata": {
        "id": "XF3pafa8b13b",
        "colab_type": "code",
        "colab": {
          "base_uri": "https://localhost:8080/",
          "height": 51
        },
        "outputId": "3ab2ce55-a507-43ed-bd72-ed56c1fa0606"
      },
      "cell_type": "code",
      "source": [
        "print(predictions[0])"
      ],
      "execution_count": 23,
      "outputs": [
        {
          "output_type": "stream",
          "text": [
            "[2.8298011e-10 3.7075929e-09 8.6334229e-10 9.3398148e-07 4.8338494e-10\n",
            " 1.5912913e-10 3.7097959e-15 9.9999893e-01 4.5709345e-10 6.2364229e-08]\n"
          ],
          "name": "stdout"
        }
      ]
    },
    {
      "metadata": {
        "id": "cHDPhQYWcGqO",
        "colab_type": "code",
        "colab": {
          "base_uri": "https://localhost:8080/",
          "height": 34
        },
        "outputId": "9df2a0ff-8cd1-48c6-af95-cb93a2242b88"
      },
      "cell_type": "code",
      "source": [
        "np.argmax(predictions[0])"
      ],
      "execution_count": 24,
      "outputs": [
        {
          "output_type": "execute_result",
          "data": {
            "text/plain": [
              "7"
            ]
          },
          "metadata": {
            "tags": []
          },
          "execution_count": 24
        }
      ]
    },
    {
      "metadata": {
        "id": "SUhkYlU7cQQA",
        "colab_type": "code",
        "colab": {
          "base_uri": "https://localhost:8080/",
          "height": 34
        },
        "outputId": "9ea3adc5-3634-4975-90a6-1fe9e71fc49c"
      },
      "cell_type": "code",
      "source": [
        "np.argmax([1,2,3])"
      ],
      "execution_count": 25,
      "outputs": [
        {
          "output_type": "execute_result",
          "data": {
            "text/plain": [
              "2"
            ]
          },
          "metadata": {
            "tags": []
          },
          "execution_count": 25
        }
      ]
    },
    {
      "metadata": {
        "id": "VDwks69qcVmM",
        "colab_type": "code",
        "colab": {
          "base_uri": "https://localhost:8080/",
          "height": 34
        },
        "outputId": "a69033fc-c7f5-4931-9635-56b824e60844"
      },
      "cell_type": "code",
      "source": [
        "test_labels[0]"
      ],
      "execution_count": 26,
      "outputs": [
        {
          "output_type": "execute_result",
          "data": {
            "text/plain": [
              "7"
            ]
          },
          "metadata": {
            "tags": []
          },
          "execution_count": 26
        }
      ]
    },
    {
      "metadata": {
        "id": "0tgzzSDecagJ",
        "colab_type": "code",
        "colab": {}
      },
      "cell_type": "code",
      "source": [
        "# visualize the classification results on the MNIST dataset\n",
        "def plot_image(i, predictions_array, true_labels, img):\n",
        "  predictions_array, true_label, img = predictions_array[i], true_labels[i], img[i]\n",
        "  plt.grid(False)\n",
        "  plt.xticks([])\n",
        "  plt.yticks([])\n",
        "  \n",
        "  plt.imshow(np.squeeze(img), cmap=plt.cm.binary)\n",
        "  predicted_label = np.argmax(predictions_array)\n",
        "  if predicted_label == true_label:\n",
        "    color = 'blue'\n",
        "  else:\n",
        "    color = 'red'\n",
        "    \n",
        "  plt.xlabel('{} {:2.0f}% ({})'.format(predicted_label,\n",
        "                                      100*np.max(predictions_array),\n",
        "                                      true_label),\n",
        "             color=color)\n",
        "  \n",
        "def plot_value_array(i, predictions_array, true_label):\n",
        "  predictions_array, true_label = predictions_array[i], true_label[i]\n",
        "  plt.grid(False)\n",
        "  plt.xticks([])\n",
        "  plt.yticks([])\n",
        "  thisplot = plt.bar(range(10), predictions_array, color='#777777')\n",
        "  plt.ylim([0,1])\n",
        "  predicted_label = np.argmax(predictions_array)\n",
        "  thisplot[predicted_label].set_color('red')\n",
        "  thisplot[true_label].set_color('blue')"
      ],
      "execution_count": 0,
      "outputs": []
    },
    {
      "metadata": {
        "id": "YhzqJj3MfjKd",
        "colab_type": "code",
        "colab": {
          "base_uri": "https://localhost:8080/",
          "height": 330
        },
        "outputId": "ed1e0ca1-0e6f-4ab5-cb8d-07d88012b55e"
      },
      "cell_type": "code",
      "source": [
        "image_index = 8\n",
        "plt.subplot(1,2,1)\n",
        "plot_image(image_index, predictions, test_labels, test_images)\n",
        "plt.subplot(1,2,2)\n",
        "plot_value_array(image_index, predictions, test_labels)"
      ],
      "execution_count": 38,
      "outputs": [
        {
          "output_type": "display_data",
          "data": {
            "image/png": "[encoded data removed]",
            "text/plain": [
              "<Figure size 576x396 with 2 Axes>"
            ]
          },
          "metadata": {
            "tags": []
          }
        }
      ]
    },
    {
      "metadata": {
        "id": "5djzPMk1gxiJ",
        "colab_type": "code",
        "colab": {
          "base_uri": "https://localhost:8080/",
          "height": 609
        },
        "outputId": "5eb7ad19-5d25-4dcb-9f93-d50a89b9cfea"
      },
      "cell_type": "code",
      "source": [
        "num_rows = 5\n",
        "num_cols = 4\n",
        "num_images = num_rows*num_cols\n",
        "plt.figure(figsize=(2*2*num_cols, 2*num_rows))\n",
        "for i in range(num_images):\n",
        "  plt.subplot(num_rows, 2*num_cols, 2*i+1)\n",
        "  plot_image(i, predictions, test_labels, test_images)\n",
        "  plt.subplot(num_rows, 2*num_cols, 2*i+2)\n",
        "  plot_value_array(i, predictions, test_labels)"
      ],
      "execution_count": 42,
      "outputs": [
        {
          "output_type": "display_data",
          "data": {
            "image/png": "[encoded data removed]",
            "text/plain": [
              "<Figure size 1152x720 with 40 Axes>"
            ]
          },
          "metadata": {
            "tags": []
          }
        }
      ]
    },
    {
      "metadata": {
        "id": "fQcWAnQOi8d7",
        "colab_type": "code",
        "colab": {
          "base_uri": "https://localhost:8080/",
          "height": 742
        },
        "outputId": "5cd9fd29-bc23-4ab4-8d6e-01ff1eadf193"
      },
      "cell_type": "code",
      "source": [
        "# rebuild the model in a lower level way\n",
        "# get more control which will be valuable when building other models\n",
        "# tf.GradientTap and tf.GradientTape.gradient\n",
        "\n",
        "# Rebuild the CNN model\n",
        "cnn_modell = build_cnn_model()\n",
        "\n",
        "batch_size = 12\n",
        "loss_history = util.LossHistory(smoothing_factor=0.99)\n",
        "plotter = util.PeriodicPlotter(sec=2, xlabel='Iterations',ylabel='Loss', scale='semilogy')\n",
        "optimizer = tf.train.GradientDescentOptimizer(learning_rate=1e-2)\n",
        "\n",
        "bar = util.create_progress_bar()\n",
        "# debug\n",
        "loss_debug = 0\n",
        "for idx in bar(range(0, train_images.shape[0], batch_size)):\n",
        "  (images, labels) = (train_images[idx:idx+batch_size], train_labels[idx:idx+batch_size])\n",
        "  images = tf.convert_to_tensor(images, dtype=tf.float32)\n",
        "  \n",
        "  # GradientTape to record differentiation operations\n",
        "  with tf.GradientTape() as tape:\n",
        "    logits = cnn_model(images) # feed forward\n",
        "    loss_value = tf.keras.backend.sparse_categorical_crossentropy(labels, logits)\n",
        "    # debug # loss_value has a shape of batch_size, then we take the average\n",
        "    loss_debug = loss_value\n",
        "    \n",
        "  loss_history.append(loss_value.numpy().mean())\n",
        "  plotter.plot(loss_history.get())\n",
        "  # Backpropagation\n",
        "  grads = tape.gradient(loss_value, cnn_model.variables)\n",
        "  optimizer.apply_gradients(zip(grads, cnn_model.variables),\n",
        "                           global_step=tf.train.get_or_create_global_step())"
      ],
      "execution_count": 45,
      "outputs": [
        {
          "output_type": "display_data",
          "data": {
            "image/png": "[encoded data removed]",
            "text/plain": [
              "<Figure size 576x396 with 1 Axes>"
            ]
          },
          "metadata": {
            "tags": []
          }
        },
        {
          "output_type": "stream",
          "text": [
            "100%|#########################################################|Time:  0:01:04  \n"
          ],
          "name": "stderr"
        },
        {
          "output_type": "display_data",
          "data": {
            "image/png": "[encoded data removed]",
            "text/plain": [
              "<Figure size 576x396 with 1 Axes>"
            ]
          },
          "metadata": {
            "tags": []
          }
        }
      ]
    },
    {
      "metadata": {
        "id": "V_wdfESTjFkn",
        "colab_type": "code",
        "colab": {}
      },
      "cell_type": "code",
      "source": [
        ""
      ],
      "execution_count": 0,
      "outputs": []
    }
  ]
}