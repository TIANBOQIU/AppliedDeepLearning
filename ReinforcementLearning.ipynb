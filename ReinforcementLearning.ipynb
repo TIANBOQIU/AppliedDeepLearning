{
  "nbformat": 4,
  "nbformat_minor": 0,
  "metadata": {
    "colab": {
      "name": "ReinforcementLearning.ipynb",
      "version": "0.3.2",
      "provenance": [],
      "collapsed_sections": [],
      "include_colab_link": true
    },
    "kernelspec": {
      "name": "python2",
      "display_name": "Python 2"
    },
    "accelerator": "GPU"
  },
  "cells": [
    {
      "cell_type": "markdown",
      "metadata": {
        "id": "view-in-github",
        "colab_type": "text"
      },
      "source": [
        "<a href=\"https://colab.research.google.com/github/TIANBOQIU/AppliedDeepLearning/blob/master/ReinforcementLearning.ipynb\" target=\"_parent\"><img src=\"https://colab.research.google.com/assets/colab-badge.svg\" alt=\"Open In Colab\"/></a>"
      ]
    },
    {
      "metadata": {
        "id": "s_ZtNaRpv9NA",
        "colab_type": "code",
        "colab": {}
      },
      "cell_type": "code",
      "source": [
        "# MIT Deep Learning Project\n",
        "# Model-Free Reinforcement Learning\n",
        "# focus on building a model-free reinforcement learning algorithm to\n",
        "# master two differnet environments with varying caomplexity\n",
        "# 1. Cartpole   2. Pong"
      ],
      "execution_count": 0,
      "outputs": []
    },
    {
      "metadata": {
        "id": "HemWUh51x4iL",
        "colab_type": "text"
      },
      "cell_type": "markdown",
      "source": [
        "#Cartpole"
      ]
    },
    {
      "metadata": {
        "id": "zmdHr_Odx7Ud",
        "colab_type": "code",
        "colab": {}
      },
      "cell_type": "code",
      "source": [
        "# First, we'll need to create our environment and initialize our agent\n",
        "# Moreover, we'll need to provide our agent some sort of mechanism for \n",
        "# remembering action and reward history\n",
        "# Then we'll need to define our learning algorithm"
      ],
      "execution_count": 0,
      "outputs": []
    },
    {
      "metadata": {
        "id": "TX7pCCdqym8w",
        "colab_type": "code",
        "outputId": "607f0656-3783-4bde-b070-ca5734b00b8b",
        "colab": {
          "base_uri": "https://localhost:8080/",
          "height": 69
        }
      },
      "cell_type": "code",
      "source": [
        "# import tensorflow, enable Eager execution, and also import some dependencies\n",
        "# to make apt-get install less noisy\n",
        "# redirect all the stdout into nothingness\n",
        "# still show stderr in the console (redirect stderr to stdout)\n",
        "! apt-get install -y xvfb python-opengl > /dev/null 2>&1\n",
        "! pip install gym pyvirtualdisplay scikit-video > /dev/null 2>&1\n",
        "\n",
        "import tensorflow as tf\n",
        "tf.enable_eager_execution()\n",
        "import gym\n",
        "import numpy as np\n",
        "import matplotlib.pyplot as plt\n",
        "from IPython import display as ipythondisplay\n",
        "import time\n",
        "\n",
        "# Download the class repository\n",
        "! git clone https://github.com/aamini/introtodeeplearning_labs.git  > /dev/null 2>&1\n",
        "% cd introtodeeplearning_labs\n",
        "! git pull\n",
        "% cd ..\n",
        "\n",
        "import introtodeeplearning_labs as util\n"
      ],
      "execution_count": 0,
      "outputs": [
        {
          "output_type": "stream",
          "text": [
            "/content/introtodeeplearning_labs\n",
            "Already up to date.\n",
            "/content\n"
          ],
          "name": "stdout"
        }
      ]
    },
    {
      "metadata": {
        "id": "vxT0kQcgFB9C",
        "colab_type": "code",
        "outputId": "e5ff9a81-f29d-4794-a07c-15e2b0d3987d",
        "colab": {
          "base_uri": "https://localhost:8080/",
          "height": 34
        }
      },
      "cell_type": "code",
      "source": [
        "print(tf.__version__)"
      ],
      "execution_count": 0,
      "outputs": [
        {
          "output_type": "stream",
          "text": [
            "1.13.1\n"
          ],
          "name": "stdout"
        }
      ]
    },
    {
      "metadata": {
        "id": "nmLYadwd5wgC",
        "colab_type": "code",
        "outputId": "8a786c34-9a4f-4b7f-c095-9fcd17aa986a",
        "colab": {
          "base_uri": "https://localhost:8080/",
          "height": 34
        }
      },
      "cell_type": "code",
      "source": [
        "# set a random seed to ensure some level of reproducibility\n",
        "env = gym.make('CartPole-v0')\n",
        "env.seed(1)"
      ],
      "execution_count": 0,
      "outputs": [
        {
          "output_type": "execute_result",
          "data": {
            "text/plain": [
              "[1L]"
            ]
          },
          "metadata": {
            "tags": []
          },
          "execution_count": 23
        }
      ]
    },
    {
      "metadata": {
        "id": "fkVow8JY6wqp",
        "colab_type": "code",
        "colab": {}
      },
      "cell_type": "code",
      "source": [
        "# CartPole Environment\n",
        "# the system is controlled by applying a force of +1 or -1 to the cart\n",
        "# pendulum starts upright, and the goal is to prevent it from falling over\n",
        "# a reward +1 is provided for every timestep that the pole remains upright\n",
        "# the episode ends when the pole is more than 15 degrees from vertical,\n",
        "# or the cart moves more than 2.4 units from the center"
      ],
      "execution_count": 0,
      "outputs": []
    },
    {
      "metadata": {
        "id": "mKhT1BF98N2V",
        "colab_type": "code",
        "colab": {}
      },
      "cell_type": "code",
      "source": [
        "# Observation\n",
        "# position of cart\n",
        "# velocity of cart\n",
        "# angle of pole\n",
        "# rotation rate of pole"
      ],
      "execution_count": 0,
      "outputs": []
    },
    {
      "metadata": {
        "id": "B_g39HIz8cIy",
        "colab_type": "code",
        "outputId": "0cbca328-4ef8-4c2a-802c-5bfc643fe8a5",
        "colab": {
          "base_uri": "https://localhost:8080/",
          "height": 34
        }
      },
      "cell_type": "code",
      "source": [
        "print('Environment has observation space = {}'.format(env.observation_space))"
      ],
      "execution_count": 0,
      "outputs": [
        {
          "output_type": "stream",
          "text": [
            "Environment has observation space = Box(4,)\n"
          ],
          "name": "stdout"
        }
      ]
    },
    {
      "metadata": {
        "id": "nE16L4Wi8mNn",
        "colab_type": "code",
        "outputId": "03bc6b6f-cdf2-442c-ecf3-00340ef9ded0",
        "colab": {
          "base_uri": "https://localhost:8080/",
          "height": 34
        }
      },
      "cell_type": "code",
      "source": [
        "#At every time step, the agent can move either right or left\n",
        "n_actions = env.action_space.n\n",
        "print('Number of possible actions that the agent can choose from = {}'.format(env.action_space.n))"
      ],
      "execution_count": 0,
      "outputs": [
        {
          "output_type": "stream",
          "text": [
            "Number of possible actions that the agent can choose from = 2\n"
          ],
          "name": "stdout"
        }
      ]
    },
    {
      "metadata": {
        "id": "ZcLkEXF-9uQ0",
        "colab_type": "code",
        "colab": {}
      },
      "cell_type": "code",
      "source": [
        "# Define the Agent\n",
        "# simply a deep neural network which takes as input an observation\n",
        "# of the environment and outputs the probability of taking each of the \n",
        "# possible actions\n",
        "# Perform Policy Learning \n",
        "\n",
        "def create_cartpole_model():\n",
        "  model = tf.keras.models.Sequential([\n",
        "      tf.keras.layers.Dense(units=32, activation='relu'),\n",
        "      tf.keras.layers.Dense(units=n_actions, activation=None)\n",
        "  ])\n",
        "  \n",
        "  return model\n",
        "\n",
        "cartpole_model = create_cartpole_model()\n",
        "\n",
        "def choose_action(model, observation):\n",
        "  # reshape observation into a row vector, -1 means to infer that dimension\n",
        "  observation = observation.reshape([1,-1])\n",
        "  logits = model.predict(observation)\n",
        "  prob_weights = tf.nn.softmax(logits).numpy()\n",
        "  # sample from the prob_weights to pick an action\n",
        "  # np.random.choice returns a list like array([1]) \n",
        "  action = np.random.choice(n_actions, size=1, p=prob_weights.flatten())[0]\n",
        "  return action\n",
        "\n",
        "# create the agent's memory\n",
        "# During training, the agent will need to remember all of its\n",
        "# observations, actions so that once the episode end, it can\n",
        "# 'reinforce' the good actions and punish the undesirable actions\n",
        "# memory buffer: agent's observations, actions, and received reward\n",
        "# from a given episode\n",
        "\n",
        "class Memory:\n",
        "  def __init__(self):\n",
        "    self.clear()\n",
        "   \n",
        "  def clear(self):\n",
        "    self.observations = []\n",
        "    self.actions = []\n",
        "    self.rewards = []\n",
        "   \n",
        "  def add_to_memory(self, new_observation, new_action, new_reward):\n",
        "    self.observations.append(new_observation)\n",
        "    self.actions.append(new_action)\n",
        "    self.rewards.append(new_reward)\n",
        "\n",
        "memory = Memory()"
      ],
      "execution_count": 0,
      "outputs": []
    },
    {
      "metadata": {
        "id": "ku1VIm_ICobo",
        "colab_type": "code",
        "colab": {}
      },
      "cell_type": "code",
      "source": [
        "def normalize(x):\n",
        "  x -= np.mean(x)\n",
        "  x /= np.std(x)\n",
        "  return x\n",
        "\n",
        "def discount_rewards(rewards, gamma=0.95):\n",
        "  discounted_rewards = np.zeros_like(rewards)\n",
        "  R = 0\n",
        "  for t in reversed(range(0, len(rewards))):\n",
        "    R = R * gamma + rewards[t]\n",
        "    discounted_rewards[t] = R\n",
        "  \n",
        "  return normalize(discounted_rewards)"
      ],
      "execution_count": 0,
      "outputs": []
    },
    {
      "metadata": {
        "id": "XspjMmsZHQzu",
        "colab_type": "code",
        "colab": {}
      },
      "cell_type": "code",
      "source": [
        "# Define the learning algorithm\n",
        "# start by defining the optimizer we want to use\n",
        "learning_rate = 1e-3\n",
        "optimizer = tf.train.AdamOptimizer(learning_rate)\n",
        "\n",
        "def compute_loss(logits, actions, rewards):\n",
        "  neg_logprob = tf.nn.sparse_softmax_cross_entropy_with_logits(logits=logits, labels=actions)\n",
        "  loss = tf.reduce_mean(neg_logprob * rewards)\n",
        "  return loss\n",
        "  "
      ],
      "execution_count": 0,
      "outputs": []
    },
    {
      "metadata": {
        "id": "3smGM-ijXIqL",
        "colab_type": "code",
        "colab": {}
      },
      "cell_type": "code",
      "source": [
        "def train_step(model, optimizer, observations, actions, discounted_rewards):\n",
        "  with tf.GradientTape() as tape:\n",
        "    observations = tf.convert_to_tensor(observations, dtype=tf.float32)\n",
        "    logits = model(observations)\n",
        "    loss = compute_loss(logits, actions, discounted_rewards)\n",
        "  \n",
        "  grads = tape.gradient(loss, model.variables)\n",
        "  optimizer.apply_gradients(zip(grads, model.variables), global_step=tf.train.get_or_create_global_step())\n",
        "  "
      ],
      "execution_count": 0,
      "outputs": []
    },
    {
      "metadata": {
        "id": "YWorm7Q_YUPB",
        "colab_type": "code",
        "outputId": "4b73e908-9925-4779-a86d-56d220c320fe",
        "colab": {
          "base_uri": "https://localhost:8080/",
          "height": 705
        }
      },
      "cell_type": "code",
      "source": [
        "cartpole_model = create_cartpole_model()\n",
        "\n",
        "smoothed_reward = util.LossHistory(smoothing_factor=0.9)\n",
        "plotter = util.PeriodicPlotter(sec=5, xlabel='Iterations', ylabel='Rewards')\n",
        "\n",
        "for i_episode in range(1000):\n",
        "  plotter.plot(smoothed_reward.get())\n",
        "  \n",
        "  observation = env.reset()\n",
        "  \n",
        "  while True:\n",
        "    action = choose_action(cartpole_model, observation)\n",
        "    next_observation, reward, done, info = env.step(action)\n",
        "    memory.add_to_memory(observation, action, reward)\n",
        "    \n",
        "    if done:\n",
        "      total_reward = sum(memory.rewards)\n",
        "      smoothed_reward.append(total_reward)\n",
        "      train_step(cartpole_model,\n",
        "                 optimizer,\n",
        "                 observations = np.vstack(memory.observations),\n",
        "                 actions = np.array(memory.actions),\n",
        "                 discounted_rewards = discount_rewards(memory.rewards)\n",
        "                )\n",
        "      memory.clear()\n",
        "      break\n",
        "    observation = next_observation"
      ],
      "execution_count": 0,
      "outputs": [
        {
          "output_type": "display_data",
          "data": {
            "image/png": "[encoded data removed]",
            "text/plain": [
              "<Figure size 576x396 with 1 Axes>"
            ]
          },
          "metadata": {
            "tags": []
          }
        },
        {
          "output_type": "display_data",
          "data": {
            "image/png": "[encoded data removed]",
            "text/plain": [
              "<Figure size 576x396 with 1 Axes>"
            ]
          },
          "metadata": {
            "tags": []
          }
        }
      ]
    },
    {
      "metadata": {
        "id": "QeeEZleYdPGA",
        "colab_type": "code",
        "outputId": "c382f7f3-970e-4189-c753-d301e197e8d8",
        "colab": {
          "base_uri": "https://localhost:8080/",
          "height": 34
        }
      },
      "cell_type": "code",
      "source": [
        "def save_video_of_model(model, env_name, filename='agent.mp4'):  \n",
        "  import skvideo.io\n",
        "  from pyvirtualdisplay import Display\n",
        "  display = Display(visible=0, size=(40, 30))\n",
        "  display.start()\n",
        "\n",
        "  env = gym.make(env_name)\n",
        "  obs = env.reset()\n",
        "  shape = env.render(mode='rgb_array').shape[0:2]\n",
        "\n",
        "  out = skvideo.io.FFmpegWriter(filename)\n",
        "\n",
        "  done = False\n",
        "  while not done: \n",
        "      frame = env.render(mode='rgb_array')\n",
        "      out.writeFrame(frame)\n",
        "      \n",
        "      action = model(tf.convert_to_tensor(obs.reshape((1,-1)), tf.float32)).numpy().argmax()\n",
        "      obs, reward, done, info = env.step(action)\n",
        "  out.close()\n",
        "  print \"Successfully saved into {}!\".format(filename)\n",
        "\n",
        "save_video_of_model(cartpole_model, \"CartPole-v0\")"
      ],
      "execution_count": 0,
      "outputs": [
        {
          "output_type": "stream",
          "text": [
            "Successfully saved into agent.mp4!\n"
          ],
          "name": "stdout"
        }
      ]
    },
    {
      "metadata": {
        "id": "sqv6ZyFiezTZ",
        "colab_type": "code",
        "outputId": "1cc8907b-3359-49b3-8ec2-309bd82b3610",
        "colab": {
          "base_uri": "https://localhost:8080/",
          "height": 34
        }
      },
      "cell_type": "code",
      "source": [
        "!ls"
      ],
      "execution_count": 0,
      "outputs": [
        {
          "output_type": "stream",
          "text": [
            "introtodeeplearning_labs  sample_data\n"
          ],
          "name": "stdout"
        }
      ]
    },
    {
      "metadata": {
        "id": "qJPKAD_icjuA",
        "colab_type": "code",
        "outputId": "4df9aeea-ab34-4c05-bec3-3ba4ed3fb85d",
        "colab": {
          "base_uri": "https://localhost:8080/",
          "height": 441
        }
      },
      "cell_type": "code",
      "source": [
        "from IPython.display import HTML\n",
        "import io, base64\n",
        "video = io.open('./agent.mp4', 'r+b').read()\n",
        "encoded = base64.b64encode(video)\n",
        "HTML(data='''\n",
        "<video controls>\n",
        "  <source src='data:video/mp4;base64,{0}' type='video/mp4' />\n",
        "</video>\n",
        "'''.format(encoded.decode('ascii')))"
      ],
      "execution_count": 0,
      "outputs": [
        {
          "output_type": "execute_result",
          "data": {
            "text/html": [
              "\n",
              "<video controls>\n",
              "  <source src='data:video/mp4;base64,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' type='video/mp4' />\n",
              "</video>\n"
            ],
            "text/plain": [
              "<IPython.core.display.HTML object>"
            ]
          },
          "metadata": {
            "tags": []
          },
          "execution_count": 53
        }
      ]
    }
  ]
}