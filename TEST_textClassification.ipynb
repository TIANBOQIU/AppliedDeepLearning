{
  "nbformat": 4,
  "nbformat_minor": 0,
  "metadata": {
    "colab": {
      "name": "TEST_textClassification.ipynb",
      "version": "0.3.2",
      "provenance": [],
      "collapsed_sections": [],
      "include_colab_link": true
    },
    "kernelspec": {
      "name": "python3",
      "display_name": "Python 3"
    }
  },
  "cells": [
    {
      "cell_type": "markdown",
      "metadata": {
        "id": "view-in-github",
        "colab_type": "text"
      },
      "source": [
        "<a href=\"https://colab.research.google.com/github/TIANBOQIU/AppliedDeepLearning/blob/master/TEST_textClassification.ipynb\" target=\"_parent\"><img src=\"https://colab.research.google.com/assets/colab-badge.svg\" alt=\"Open In Colab\"/></a>"
      ]
    },
    {
      "metadata": {
        "id": "2BuVosbbFjXv",
        "colab_type": "code",
        "colab": {
          "base_uri": "https://localhost:8080/",
          "height": 34
        },
        "outputId": "e0c6d312-107c-481c-c972-ec0a65a2f146"
      },
      "cell_type": "code",
      "source": [
        "from __future__ import division, absolute_import, print_function\n",
        "\n",
        "import tensorflow as tf\n",
        "from tensorflow import keras\n",
        "\n",
        "import numpy as np\n",
        "\n",
        "print(tf.__version__)"
      ],
      "execution_count": 2,
      "outputs": [
        {
          "output_type": "stream",
          "text": [
            "1.13.0-rc0\n"
          ],
          "name": "stdout"
        }
      ]
    },
    {
      "metadata": {
        "id": "UQfW1pXWHvqr",
        "colab_type": "code",
        "colab": {}
      },
      "cell_type": "code",
      "source": [
        "imdb = keras.datasets.imdb\n",
        "(train_data, train_labels), (test_data, test_labels) = imdb.load_data(num_words=10000)\n"
      ],
      "execution_count": 0,
      "outputs": []
    },
    {
      "metadata": {
        "id": "lDs_fYC5IGQa",
        "colab_type": "code",
        "colab": {}
      },
      "cell_type": "code",
      "source": [
        "word_index = imdb.get_word_index()\n"
      ],
      "execution_count": 0,
      "outputs": []
    },
    {
      "metadata": {
        "id": "hVrxdSe-IhY9",
        "colab_type": "code",
        "colab": {}
      },
      "cell_type": "code",
      "source": [
        "word_index = {k:(v+3) for k,v in word_index.items()}\n",
        "word_index[\"<PAD>\"] = 0\n",
        "word_index[\"<START>\"] = 1\n",
        "word_index[\"<UNK>\"] = 2\n",
        "word_index[\"<UNUSED>\"] = 3\n",
        "\n",
        "reverse_word_index = {v:k for k,v in word_index.items()}\n",
        "\n",
        "def decode_review(text):\n",
        "  return ' '.join([reverse_word_index.get(i, '?') for i in text])"
      ],
      "execution_count": 0,
      "outputs": []
    },
    {
      "metadata": {
        "id": "GlEVvn5YMf0o",
        "colab_type": "code",
        "colab": {}
      },
      "cell_type": "code",
      "source": [
        "train_data = keras.preprocessing.sequence.pad_sequences(train_data, value = word_index[\"<PAD>\"], padding = 'post', maxlen=256)\n",
        "test_data = keras.preprocessing.sequence.pad_sequences(test_data, value = word_index[\"<PAD>\"], padding = 'post', maxlen=256)"
      ],
      "execution_count": 0,
      "outputs": []
    },
    {
      "metadata": {
        "id": "lHnm84eCK51S",
        "colab_type": "code",
        "colab": {
          "base_uri": "https://localhost:8080/",
          "height": 349
        },
        "outputId": "0f7015be-5026-464d-963a-25566b10c4d5"
      },
      "cell_type": "code",
      "source": [
        "## Build the Model\n",
        "vocab_size = 10000\n",
        "model = keras.Sequential()\n",
        "model.add(keras.layers.Embedding(vocab_size, 16))\n",
        "model.add(keras.layers.GlobalAveragePooling1D())\n",
        "model.add(keras.layers.Dense(16, activation=tf.nn.relu))\n",
        "model.add(keras.layers.Dense(1, activation = tf.nn.sigmoid))\n",
        "model.summary()"
      ],
      "execution_count": 32,
      "outputs": [
        {
          "output_type": "stream",
          "text": [
            "WARNING:tensorflow:From /usr/local/lib/python3.6/dist-packages/tensorflow/python/ops/resource_variable_ops.py:435: colocate_with (from tensorflow.python.framework.ops) is deprecated and will be removed in a future version.\n",
            "Instructions for updating:\n",
            "Colocations handled automatically by placer.\n",
            "_________________________________________________________________\n",
            "Layer (type)                 Output Shape              Param #   \n",
            "=================================================================\n",
            "embedding (Embedding)        (None, None, 16)          160000    \n",
            "_________________________________________________________________\n",
            "global_average_pooling1d (Gl (None, 16)                0         \n",
            "_________________________________________________________________\n",
            "dense (Dense)                (None, 16)                272       \n",
            "_________________________________________________________________\n",
            "dense_1 (Dense)              (None, 1)                 17        \n",
            "=================================================================\n",
            "Total params: 160,289\n",
            "Trainable params: 160,289\n",
            "Non-trainable params: 0\n",
            "_________________________________________________________________\n"
          ],
          "name": "stdout"
        }
      ]
    },
    {
      "metadata": {
        "id": "lLgoGR_dT6SW",
        "colab_type": "code",
        "colab": {}
      },
      "cell_type": "code",
      "source": [
        "model.compile(optimizer='adam', loss = 'binary_crossentropy', metrics=['accuracy'])"
      ],
      "execution_count": 0,
      "outputs": []
    },
    {
      "metadata": {
        "id": "kAod2KvyUFvn",
        "colab_type": "code",
        "colab": {}
      },
      "cell_type": "code",
      "source": [
        "# for tuning (validation set from training set) \n",
        "x_val = train_data[:10000]\n",
        "partial_x_train = train_data[10000:]\n",
        "y_val = train_labels[:10000]\n",
        "partial_y_train = train_labels[10000:]"
      ],
      "execution_count": 0,
      "outputs": []
    },
    {
      "metadata": {
        "id": "77keNnz3U1XX",
        "colab_type": "code",
        "colab": {
          "base_uri": "https://localhost:8080/",
          "height": 1493
        },
        "outputId": "4f10f245-a18a-4b2b-a1bc-55a175da4d9c"
      },
      "cell_type": "code",
      "source": [
        "history = model.fit(partial_x_train, partial_y_train, epochs=40, batch_size=512,validation_data=(x_val,y_val),verbose=1)"
      ],
      "execution_count": 36,
      "outputs": [
        {
          "output_type": "stream",
          "text": [
            "Train on 15000 samples, validate on 10000 samples\n",
            "WARNING:tensorflow:From /usr/local/lib/python3.6/dist-packages/tensorflow/python/ops/math_ops.py:3066: to_int32 (from tensorflow.python.ops.math_ops) is deprecated and will be removed in a future version.\n",
            "Instructions for updating:\n",
            "Use tf.cast instead.\n",
            "Epoch 1/40\n",
            "15000/15000 [==============================] - 1s 89us/sample - loss: 0.6915 - acc: 0.6114 - val_loss: 0.6889 - val_acc: 0.6952\n",
            "Epoch 2/40\n",
            "15000/15000 [==============================] - 1s 54us/sample - loss: 0.6845 - acc: 0.7090 - val_loss: 0.6794 - val_acc: 0.7302\n",
            "Epoch 3/40\n",
            "15000/15000 [==============================] - 1s 54us/sample - loss: 0.6697 - acc: 0.7369 - val_loss: 0.6609 - val_acc: 0.7422\n",
            "Epoch 4/40\n",
            "15000/15000 [==============================] - 1s 51us/sample - loss: 0.6447 - acc: 0.7630 - val_loss: 0.6328 - val_acc: 0.7468\n",
            "Epoch 5/40\n",
            "15000/15000 [==============================] - 1s 53us/sample - loss: 0.6095 - acc: 0.7891 - val_loss: 0.5965 - val_acc: 0.7864\n",
            "Epoch 6/40\n",
            "15000/15000 [==============================] - 1s 52us/sample - loss: 0.5663 - acc: 0.8166 - val_loss: 0.5552 - val_acc: 0.8148\n",
            "Epoch 7/40\n",
            "15000/15000 [==============================] - 1s 52us/sample - loss: 0.5187 - acc: 0.8389 - val_loss: 0.5110 - val_acc: 0.8263\n",
            "Epoch 8/40\n",
            "15000/15000 [==============================] - 1s 51us/sample - loss: 0.4715 - acc: 0.8553 - val_loss: 0.4703 - val_acc: 0.8386\n",
            "Epoch 9/40\n",
            "15000/15000 [==============================] - 1s 52us/sample - loss: 0.4272 - acc: 0.8689 - val_loss: 0.4333 - val_acc: 0.8489\n",
            "Epoch 10/40\n",
            "15000/15000 [==============================] - 1s 52us/sample - loss: 0.3877 - acc: 0.8777 - val_loss: 0.4029 - val_acc: 0.8552\n",
            "Epoch 11/40\n",
            "15000/15000 [==============================] - 1s 54us/sample - loss: 0.3544 - acc: 0.8862 - val_loss: 0.3779 - val_acc: 0.8624\n",
            "Epoch 12/40\n",
            "15000/15000 [==============================] - 1s 51us/sample - loss: 0.3265 - acc: 0.8931 - val_loss: 0.3585 - val_acc: 0.8648\n",
            "Epoch 13/40\n",
            "15000/15000 [==============================] - 1s 53us/sample - loss: 0.3038 - acc: 0.8990 - val_loss: 0.3422 - val_acc: 0.8710\n",
            "Epoch 14/40\n",
            "15000/15000 [==============================] - 1s 52us/sample - loss: 0.2835 - acc: 0.9039 - val_loss: 0.3300 - val_acc: 0.8733\n",
            "Epoch 15/40\n",
            "15000/15000 [==============================] - 1s 53us/sample - loss: 0.2666 - acc: 0.9089 - val_loss: 0.3205 - val_acc: 0.8762\n",
            "Epoch 16/40\n",
            "15000/15000 [==============================] - 1s 50us/sample - loss: 0.2514 - acc: 0.9139 - val_loss: 0.3123 - val_acc: 0.8766\n",
            "Epoch 17/40\n",
            "15000/15000 [==============================] - 1s 52us/sample - loss: 0.2374 - acc: 0.9180 - val_loss: 0.3056 - val_acc: 0.8801\n",
            "Epoch 18/40\n",
            "15000/15000 [==============================] - 1s 52us/sample - loss: 0.2251 - acc: 0.9227 - val_loss: 0.3005 - val_acc: 0.8817\n",
            "Epoch 19/40\n",
            "15000/15000 [==============================] - 1s 51us/sample - loss: 0.2139 - acc: 0.9258 - val_loss: 0.2956 - val_acc: 0.8824\n",
            "Epoch 20/40\n",
            "15000/15000 [==============================] - 1s 53us/sample - loss: 0.2039 - acc: 0.9292 - val_loss: 0.2923 - val_acc: 0.8835\n",
            "Epoch 21/40\n",
            "15000/15000 [==============================] - 1s 51us/sample - loss: 0.1936 - acc: 0.9353 - val_loss: 0.2896 - val_acc: 0.8846\n",
            "Epoch 22/40\n",
            "15000/15000 [==============================] - 1s 53us/sample - loss: 0.1851 - acc: 0.9397 - val_loss: 0.2879 - val_acc: 0.8840\n",
            "Epoch 23/40\n",
            "15000/15000 [==============================] - 1s 50us/sample - loss: 0.1765 - acc: 0.9433 - val_loss: 0.2873 - val_acc: 0.8831\n",
            "Epoch 24/40\n",
            "15000/15000 [==============================] - 1s 52us/sample - loss: 0.1691 - acc: 0.9467 - val_loss: 0.2858 - val_acc: 0.8850\n",
            "Epoch 25/40\n",
            "15000/15000 [==============================] - 1s 52us/sample - loss: 0.1615 - acc: 0.9494 - val_loss: 0.2851 - val_acc: 0.8851\n",
            "Epoch 26/40\n",
            "15000/15000 [==============================] - 1s 53us/sample - loss: 0.1547 - acc: 0.9526 - val_loss: 0.2862 - val_acc: 0.8832\n",
            "Epoch 27/40\n",
            "15000/15000 [==============================] - 1s 52us/sample - loss: 0.1484 - acc: 0.9550 - val_loss: 0.2860 - val_acc: 0.8839\n",
            "Epoch 28/40\n",
            "15000/15000 [==============================] - 1s 53us/sample - loss: 0.1424 - acc: 0.9565 - val_loss: 0.2867 - val_acc: 0.8848\n",
            "Epoch 29/40\n",
            "15000/15000 [==============================] - 1s 52us/sample - loss: 0.1370 - acc: 0.9591 - val_loss: 0.2893 - val_acc: 0.8831\n",
            "Epoch 30/40\n",
            "15000/15000 [==============================] - 1s 53us/sample - loss: 0.1314 - acc: 0.9615 - val_loss: 0.2888 - val_acc: 0.8850\n",
            "Epoch 31/40\n",
            "15000/15000 [==============================] - 1s 52us/sample - loss: 0.1258 - acc: 0.9642 - val_loss: 0.2905 - val_acc: 0.8848\n",
            "Epoch 32/40\n",
            "15000/15000 [==============================] - 1s 51us/sample - loss: 0.1207 - acc: 0.9667 - val_loss: 0.2924 - val_acc: 0.8852\n",
            "Epoch 33/40\n",
            "15000/15000 [==============================] - 1s 51us/sample - loss: 0.1159 - acc: 0.9682 - val_loss: 0.2952 - val_acc: 0.8842\n",
            "Epoch 34/40\n",
            "15000/15000 [==============================] - 1s 53us/sample - loss: 0.1117 - acc: 0.9691 - val_loss: 0.2973 - val_acc: 0.8843\n",
            "Epoch 35/40\n",
            "15000/15000 [==============================] - 1s 52us/sample - loss: 0.1075 - acc: 0.9703 - val_loss: 0.3012 - val_acc: 0.8831\n",
            "Epoch 36/40\n",
            "15000/15000 [==============================] - 1s 54us/sample - loss: 0.1033 - acc: 0.9726 - val_loss: 0.3030 - val_acc: 0.8836\n",
            "Epoch 37/40\n",
            "15000/15000 [==============================] - 1s 51us/sample - loss: 0.0992 - acc: 0.9733 - val_loss: 0.3057 - val_acc: 0.8836\n",
            "Epoch 38/40\n",
            "15000/15000 [==============================] - 1s 52us/sample - loss: 0.0955 - acc: 0.9755 - val_loss: 0.3096 - val_acc: 0.8823\n",
            "Epoch 39/40\n",
            "15000/15000 [==============================] - 1s 52us/sample - loss: 0.0923 - acc: 0.9763 - val_loss: 0.3137 - val_acc: 0.8810\n",
            "Epoch 40/40\n",
            "15000/15000 [==============================] - 1s 52us/sample - loss: 0.0884 - acc: 0.9784 - val_loss: 0.3159 - val_acc: 0.8820\n"
          ],
          "name": "stdout"
        }
      ]
    },
    {
      "metadata": {
        "id": "M1qLVbB_Vb23",
        "colab_type": "code",
        "colab": {
          "base_uri": "https://localhost:8080/",
          "height": 51
        },
        "outputId": "849feddc-3b10-447c-cc39-c21aa666ca68"
      },
      "cell_type": "code",
      "source": [
        "results = model.evaluate(test_data, test_labels)\n",
        "print(results)"
      ],
      "execution_count": 37,
      "outputs": [
        {
          "output_type": "stream",
          "text": [
            "25000/25000 [==============================] - 1s 36us/sample - loss: 0.3373 - acc: 0.8708\n",
            "[0.33728807629585267, 0.87084]\n"
          ],
          "name": "stdout"
        }
      ]
    },
    {
      "metadata": {
        "id": "0HBUncFpVk9L",
        "colab_type": "code",
        "colab": {
          "base_uri": "https://localhost:8080/",
          "height": 34
        },
        "outputId": "c3505e61-9331-4b61-dabb-6b09b71a7f9d"
      },
      "cell_type": "code",
      "source": [
        "history_dict = history.history\n",
        "history_dict.keys()"
      ],
      "execution_count": 38,
      "outputs": [
        {
          "output_type": "execute_result",
          "data": {
            "text/plain": [
              "dict_keys(['loss', 'acc', 'val_loss', 'val_acc'])"
            ]
          },
          "metadata": {
            "tags": []
          },
          "execution_count": 38
        }
      ]
    },
    {
      "metadata": {
        "id": "QDgqpdHiV_AW",
        "colab_type": "code",
        "colab": {
          "base_uri": "https://localhost:8080/",
          "height": 376
        },
        "outputId": "d5b2700f-0ce6-4880-f785-db45ac234a1a"
      },
      "cell_type": "code",
      "source": [
        "import matplotlib.pyplot as plt\n",
        "\n",
        "acc = history_dict['acc']\n",
        "val_acc = history_dict['val_acc']\n",
        "loss = history_dict['loss']\n",
        "val_loss = history_dict['val_loss'] \n",
        "\n",
        "epochs = range(1, len(acc) + 1)\n",
        "plt.plot(epochs, loss, 'bo', label='Training loss')\n",
        "plt.plot(epochs, val_loss, 'b', label='Validation loss')\n",
        "plt.title('Training and Validation loss')\n",
        "plt.xlabel('Epochs')\n",
        "plt.ylabel('Loss')\n",
        "plt.legend()\n",
        "plt.show()"
      ],
      "execution_count": 39,
      "outputs": [
        {
          "output_type": "display_data",
          "data": {
            "image/png": "[encoded data removed]",
            "text/plain": [
              "<Figure size 576x396 with 1 Axes>"
            ]
          },
          "metadata": {
            "tags": []
          }
        }
      ]
    },
    {
      "metadata": {
        "id": "nEITDElIW9Rd",
        "colab_type": "code",
        "colab": {
          "base_uri": "https://localhost:8080/",
          "height": 376
        },
        "outputId": "42c835e4-98b5-499e-82da-c1644e93ab78"
      },
      "cell_type": "code",
      "source": [
        "plt.clf()\n",
        "\n",
        "plt.plot(epochs, acc, 'bo', label='Training acc')\n",
        "plt.plot(epochs, val_acc, 'b', label='Validation acc')\n",
        "plt.title('Traing and Vaalidation accuracy')\n",
        "plt.xlabel('Epochs')\n",
        "plt.ylabel('Accuracy')\n",
        "plt.legend()\n",
        "plt.show()"
      ],
      "execution_count": 40,
      "outputs": [
        {
          "output_type": "display_data",
          "data": {
            "image/png": "[encoded data removed]",
            "text/plain": [
              "<Figure size 576x396 with 1 Axes>"
            ]
          },
          "metadata": {
            "tags": []
          }
        }
      ]
    }
  ]
}